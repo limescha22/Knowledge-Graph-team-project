{
 "cells": [
  {
   "cell_type": "code",
   "execution_count": 3,
   "id": "caddb33b",
   "metadata": {},
   "outputs": [],
   "source": [
    "from SPARQLWrapper import SPARQLWrapper, JSON\n",
    "import re\n",
    "import pandas as pd\n",
    "from tqdm import tqdm\n",
    "from rdflib import Graph, URIRef, Literal, Namespace, RDF, RDFS\n",
    "\n",
    "# -------------------------------\n",
    "# 1. Setup DBpedia SPARQL endpoint\n",
    "# -------------------------------\n",
    "DBPEDIA_SPARQL = \"https://dbpedia.org/sparql\"\n",
    "sparql = SPARQLWrapper(DBPEDIA_SPARQL)\n",
    "sparql.setReturnFormat(JSON)\n",
    "\n",
    "# Namespace shortcuts\n",
    "DCT = Namespace(\"http://purl.org/dc/terms/\")\n",
    "SKOS = Namespace(\"http://www.w3.org/2004/02/skos/core#\")\n",
    "EX = Namespace(\"http://example.org/kg/\")  # for our custom triples\n",
    "\n",
    "\n",
    "# -------------------------------\n",
    "# 2. Function: Get categories matching \"Visitor_attractions_in_*\"\n",
    "# -------------------------------\n",
    "def get_visitor_attraction_categories(limit=10):\n",
    "    \"\"\"\n",
    "    Retrieve categories that start with Category:Visitor_attractions_in_\n",
    "    For demo, limit results.\n",
    "    \"\"\"\n",
    "    query = f\"\"\"\n",
    "    SELECT DISTINCT ?category WHERE {{\n",
    "      ?category a skos:Concept .\n",
    "      FILTER regex(str(?category), \"^http://dbpedia.org/resource/Category:Tourist_attractions_in_\")\n",
    "    }} LIMIT {limit}\n",
    "    \"\"\"\n",
    "    sparql.setQuery(query)\n",
    "    results = sparql.query().convert()\n",
    "    return [r['category']['value'] for r in results['results']['bindings']]\n",
    "\n",
    "\n",
    "# -------------------------------\n",
    "# 3. Function: Get POIs for a given category\n",
    "# -------------------------------\n",
    "def get_pois_for_category(category_uri):\n",
    "    query = f\"\"\"\n",
    "    SELECT DISTINCT ?POI ?category WHERE {{\n",
    "      ?POI <http://purl.org/dc/terms/subject> ?category .\n",
    "      ?category <http://www.w3.org/2004/02/skos/core#broader> <{category_uri}> .\n",
    "    }}\n",
    "    \"\"\"\n",
    "    sparql.setQuery(query)\n",
    "    results = sparql.query().convert()\n",
    "    pois = []\n",
    "    for r in results['results']['bindings']:\n",
    "        poi = r['POI']['value']\n",
    "        cat = r['category']['value']\n",
    "        pois.append((poi, cat))\n",
    "    return pois\n",
    "\n",
    "\n",
    "# -------------------------------\n",
    "# 4. Regex-based syntactic verification\n",
    "# -------------------------------\n",
    "CATEGORY_REGEX = re.compile(r\"http://dbpedia\\.org/resource/Category:(.+?)_(in|of)_(.+)\")\n",
    "\n",
    "def parse_category_uri(category_uri):\n",
    "    m = CATEGORY_REGEX.match(category_uri)\n",
    "    if m:\n",
    "        type_str = m.group(1).replace(\"_\", \" \")\n",
    "        location_str = m.group(3).replace(\"_\", \" \")\n",
    "        return type_str, location_str\n",
    "    return None, None\n",
    "\n"
   ]
  },
  {
   "cell_type": "code",
   "execution_count": 4,
   "id": "ff33b7b4",
   "metadata": {},
   "outputs": [
    {
     "name": "stdout",
     "output_type": "stream",
     "text": [
      "Found 100 categories\n",
      "['http://dbpedia.org/resource/Category:Tourist_attractions_in_Amsterdam', 'http://dbpedia.org/resource/Category:Tourist_attractions_in_Anaheim,_California', 'http://dbpedia.org/resource/Category:Tourist_attractions_in_Bergen_County,_New_Jersey', 'http://dbpedia.org/resource/Category:Tourist_attractions_in_Caddo_County,_Oklahoma', 'http://dbpedia.org/resource/Category:Tourist_attractions_in_Canada', 'http://dbpedia.org/resource/Category:Tourist_attractions_in_County_Donegal', 'http://dbpedia.org/resource/Category:Tourist_attractions_in_Cumberland_County,_Nova_Scotia', 'http://dbpedia.org/resource/Category:Tourist_attractions_in_Dakota_County,_Minnesota', 'http://dbpedia.org/resource/Category:Tourist_attractions_in_Detroit', 'http://dbpedia.org/resource/Category:Tourist_attractions_in_Duval_County,_Florida', 'http://dbpedia.org/resource/Category:Tourist_attractions_in_Fairfax_County,_Virginia', 'http://dbpedia.org/resource/Category:Tourist_attractions_in_Fremont_County,_Idaho', 'http://dbpedia.org/resource/Category:Tourist_attractions_in_Hérault', 'http://dbpedia.org/resource/Category:Tourist_attractions_in_Indonesia', 'http://dbpedia.org/resource/Category:Tourist_attractions_in_Innsbruck', 'http://dbpedia.org/resource/Category:Tourist_attractions_in_Iowa_County,_Wisconsin', 'http://dbpedia.org/resource/Category:Tourist_attractions_in_Iron_County,_Utah', 'http://dbpedia.org/resource/Category:Tourist_attractions_in_Kadapa_district', 'http://dbpedia.org/resource/Category:Tourist_attractions_in_Kansas_City,_Missouri', 'http://dbpedia.org/resource/Category:Tourist_attractions_in_Kathmandu', 'http://dbpedia.org/resource/Category:Tourist_attractions_in_Key_West,_Florida', 'http://dbpedia.org/resource/Category:Tourist_attractions_in_Lawrence,_Kansas', 'http://dbpedia.org/resource/Category:Tourist_attractions_in_Lyon', 'http://dbpedia.org/resource/Category:Tourist_attractions_in_Manchester,_New_Hampshire', 'http://dbpedia.org/resource/Category:Tourist_attractions_in_Miami-Dade_County,_Florida', 'http://dbpedia.org/resource/Category:Tourist_attractions_in_Montana', 'http://dbpedia.org/resource/Category:Tourist_attractions_in_Montgomery_County,_Pennsylvania', 'http://dbpedia.org/resource/Category:Tourist_attractions_in_Muğla_Province', 'http://dbpedia.org/resource/Category:Tourist_attractions_in_Nassau_County,_Florida', 'http://dbpedia.org/resource/Category:Tourist_attractions_in_New_Haven,_Connecticut', 'http://dbpedia.org/resource/Category:Tourist_attractions_in_Niagara_County,_New_York', 'http://dbpedia.org/resource/Category:Tourist_attractions_in_Osaka', 'http://dbpedia.org/resource/Category:Tourist_attractions_in_Palm_Beach_County,_Florida', 'http://dbpedia.org/resource/Category:Tourist_attractions_in_Park_County,_Wyoming', 'http://dbpedia.org/resource/Category:Tourist_attractions_in_Pierce_County,_Washington', 'http://dbpedia.org/resource/Category:Tourist_attractions_in_Prague', 'http://dbpedia.org/resource/Category:Tourist_attractions_in_Provo,_Utah', 'http://dbpedia.org/resource/Category:Tourist_attractions_in_Pärnu_County', 'http://dbpedia.org/resource/Category:Tourist_attractions_in_Racha-Lechkhumi_and_Kvemo_Svaneti', 'http://dbpedia.org/resource/Category:Tourist_attractions_in_Rift_Valley_Province', 'http://dbpedia.org/resource/Category:Tourist_attractions_in_Rockingham_County,_New_Hampshire', 'http://dbpedia.org/resource/Category:Tourist_attractions_in_Saint_Paul,_Minnesota', 'http://dbpedia.org/resource/Category:Tourist_attractions_in_Samut_Songkhram_province', 'http://dbpedia.org/resource/Category:Tourist_attractions_in_Santa_Cruz_Department_(Bolivia)', 'http://dbpedia.org/resource/Category:Tourist_attractions_in_Sheboygan_County,_Wisconsin', 'http://dbpedia.org/resource/Category:Tourist_attractions_in_Sikkim', 'http://dbpedia.org/resource/Category:Tourist_attractions_in_Silicon_Valley', 'http://dbpedia.org/resource/Category:Tourist_attractions_in_Sindhudurg_district', 'http://dbpedia.org/resource/Category:Tourist_attractions_in_South_24_Parganas_district', 'http://dbpedia.org/resource/Category:Tourist_attractions_in_Taitung_County', 'http://dbpedia.org/resource/Category:Tourist_attractions_in_Tangier', 'http://dbpedia.org/resource/Category:Tourist_attractions_in_Tanzania', 'http://dbpedia.org/resource/Category:Tourist_attractions_in_Utah_County,_Utah', 'http://dbpedia.org/resource/Category:Tourist_attractions_in_Uzbekistan', 'http://dbpedia.org/resource/Category:Tourist_attractions_in_Vellore', 'http://dbpedia.org/resource/Category:Tourist_attractions_in_the_Auckland_Region', 'http://dbpedia.org/resource/Category:Tourist_attractions_in_Allegheny_County,_Pennsylvania', 'http://dbpedia.org/resource/Category:Tourist_attractions_in_Allen_County,_Indiana', 'http://dbpedia.org/resource/Category:Tourist_attractions_in_Alpine_County,_California', 'http://dbpedia.org/resource/Category:Tourist_attractions_in_Angeles_City', 'http://dbpedia.org/resource/Category:Tourist_attractions_in_Beaumont,_Texas', 'http://dbpedia.org/resource/Category:Tourist_attractions_in_Bedford_County,_Pennsylvania', 'http://dbpedia.org/resource/Category:Tourist_attractions_in_Bedfordshire', 'http://dbpedia.org/resource/Category:Tourist_attractions_in_Beizhen', 'http://dbpedia.org/resource/Category:Tourist_attractions_in_Berkshire', 'http://dbpedia.org/resource/Category:Tourist_attractions_in_Blaenau_Gwent', 'http://dbpedia.org/resource/Category:Tourist_attractions_in_Bowling_Green,_Kentucky', 'http://dbpedia.org/resource/Category:Tourist_attractions_in_Bridgeport,_Connecticut', 'http://dbpedia.org/resource/Category:Tourist_attractions_in_Buckinghamshire', 'http://dbpedia.org/resource/Category:Tourist_attractions_in_Carbon_County,_Montana', 'http://dbpedia.org/resource/Category:Tourist_attractions_in_Carter_County,_Tennessee', 'http://dbpedia.org/resource/Category:Tourist_attractions_in_Ceará', 'http://dbpedia.org/resource/Category:Tourist_attractions_in_Chippewa_County,_Michigan', 'http://dbpedia.org/resource/Category:Tourist_attractions_in_Columbiana_County,_Ohio', 'http://dbpedia.org/resource/Category:Tourist_attractions_in_Corpus_Christi,_Texas', 'http://dbpedia.org/resource/Category:Tourist_attractions_in_County_Roscommon', 'http://dbpedia.org/resource/Category:Tourist_attractions_in_Cumberland_County,_Maine', 'http://dbpedia.org/resource/Category:Tourist_attractions_in_Custer_County,_South_Dakota', 'http://dbpedia.org/resource/Category:Tourist_attractions_in_Cuyahoga_County,_Ohio', 'http://dbpedia.org/resource/Category:Tourist_attractions_in_Delaware_County,_New_York', 'http://dbpedia.org/resource/Category:Tourist_attractions_in_Eagle_County,_Colorado', 'http://dbpedia.org/resource/Category:Tourist_attractions_in_East_Kalimantan', 'http://dbpedia.org/resource/Category:Tourist_attractions_in_Erie,_Pennsylvania', 'http://dbpedia.org/resource/Category:Tourist_attractions_in_Eureka,_California', 'http://dbpedia.org/resource/Category:Tourist_attractions_in_Hill_County,_Montana', 'http://dbpedia.org/resource/Category:Tourist_attractions_in_Hsinchu_County', 'http://dbpedia.org/resource/Category:Tourist_attractions_in_Inhambane_Province', 'http://dbpedia.org/resource/Category:Tourist_attractions_in_Iraqi_Kurdistan', 'http://dbpedia.org/resource/Category:Tourist_attractions_in_Jilin', 'http://dbpedia.org/resource/Category:Tourist_attractions_in_Kalkaska_County,_Michigan', 'http://dbpedia.org/resource/Category:Tourist_attractions_in_Kurdistan', 'http://dbpedia.org/resource/Category:Tourist_attractions_in_Larimer_County,_Colorado', 'http://dbpedia.org/resource/Category:Tourist_attractions_in_Liaoning', 'http://dbpedia.org/resource/Category:Tourist_attractions_in_Lorestan_Province', 'http://dbpedia.org/resource/Category:Tourist_attractions_in_Luzerne_County,_Pennsylvania', 'http://dbpedia.org/resource/Category:Tourist_attractions_in_Mahoba_district', 'http://dbpedia.org/resource/Category:Tourist_attractions_in_Mecklenburg-Western_Pomerania', 'http://dbpedia.org/resource/Category:Tourist_attractions_in_Memphis,_Tennessee', 'http://dbpedia.org/resource/Category:Tourist_attractions_in_Nashville,_Tennessee', 'http://dbpedia.org/resource/Category:Tourist_attractions_in_Northumberland_County,_New_Brunswick']\n"
     ]
    }
   ],
   "source": [
    "# -------------------------------\n",
    "# 5. Main pipeline\n",
    "# -------------------------------\n",
    "all_records = []\n",
    "\n",
    "categories = get_visitor_attraction_categories(limit=100)  # adjust limit\n",
    "print(f\"Found {len(categories)} categories\")\n",
    "print(categories)\n"
   ]
  },
  {
   "cell_type": "code",
   "execution_count": 5,
   "id": "65160abc",
   "metadata": {},
   "outputs": [
    {
     "name": "stderr",
     "output_type": "stream",
     "text": [
      "Processing categories: 100%|██████████| 100/100 [00:21<00:00,  4.63it/s]\n"
     ]
    }
   ],
   "source": [
    "\n",
    "for cat_uri in tqdm(categories, desc=\"Processing categories\"):\n",
    "    pairs = get_pois_for_category(cat_uri)\n",
    "    for poi_uri, category_uri in pairs:\n",
    "        type_str, location_str = parse_category_uri(category_uri)\n",
    "        if type_str and location_str:\n",
    "            all_records.append({\n",
    "                \"POI\": poi_uri,\n",
    "                \"Category\": category_uri,\n",
    "                \"Type\": type_str,\n",
    "                \"Location\": location_str\n",
    "            })\n",
    "\n",
    "df = pd.DataFrame(all_records)"
   ]
  },
  {
   "cell_type": "code",
   "execution_count": 6,
   "id": "847901a3",
   "metadata": {},
   "outputs": [
    {
     "name": "stdout",
     "output_type": "stream",
     "text": [
      "                                                   POI  \\\n",
      "241        http://dbpedia.org/resource/Baylor_Massacre   \n",
      "242  http://dbpedia.org/resource/Holy_Cross_Cemeter...   \n",
      "243  http://dbpedia.org/resource/Riverside_Cemetery...   \n",
      "244  http://dbpedia.org/resource/George_Washington_...   \n",
      "245    http://dbpedia.org/resource/Gethsemane_Cemetery   \n",
      "\n",
      "                                              Category        Type  \\\n",
      "241  http://dbpedia.org/resource/Category:Cemeterie...  Cemeteries   \n",
      "242  http://dbpedia.org/resource/Category:Cemeterie...  Cemeteries   \n",
      "243  http://dbpedia.org/resource/Category:Cemeterie...  Cemeteries   \n",
      "244  http://dbpedia.org/resource/Category:Cemeterie...  Cemeteries   \n",
      "245  http://dbpedia.org/resource/Category:Cemeterie...  Cemeteries   \n",
      "\n",
      "                      Location  \n",
      "241  Bergen County, New Jersey  \n",
      "242  Bergen County, New Jersey  \n",
      "243  Bergen County, New Jersey  \n",
      "244  Bergen County, New Jersey  \n",
      "245  Bergen County, New Jersey  \n"
     ]
    }
   ],
   "source": [
    "print(df[df[\"Location\"] == \"Bergen County, New Jersey\"].head())"
   ]
  },
  {
   "cell_type": "code",
   "execution_count": 7,
   "id": "370f6615",
   "metadata": {},
   "outputs": [
    {
     "name": "stdout",
     "output_type": "stream",
     "text": [
      "\n",
      "Generated RDF triples: 10051\n",
      "Graph saved to visitor_attractions_kg.ttl\n"
     ]
    }
   ],
   "source": [
    "\n",
    "# -------------------------------\n",
    "# 6. Build a mini Knowledge Graph (RDF) locally\n",
    "# -------------------------------\n",
    "g = Graph()\n",
    "g.bind(\"ex\", EX)\n",
    "g.bind(\"rdfs\", RDFS)\n",
    "\n",
    "for _, row in df.iterrows():\n",
    "    poi_uri = URIRef(row[\"POI\"])\n",
    "    type_uri = EX[row[\"Type\"].replace(\" \", \"_\")]\n",
    "    location_uri = EX[row[\"Location\"].replace(\" \", \"_\")]\n",
    "\n",
    "    # Store relationships\n",
    "    g.add((poi_uri, RDF.type, type_uri))\n",
    "    g.add((poi_uri, EX.hasLocation, location_uri))\n",
    "\n",
    "    # Add hierarchy (type subclassOf Visitor_attractions)\n",
    "    g.add((type_uri, RDFS.subClassOf, EX.Visitor_attractions))\n",
    "\n",
    "print(f\"\\nGenerated RDF triples: {len(g)}\")\n",
    "\n",
    "# Save graph to file\n",
    "g.serialize(destination=\"visitor_attractions_kg.ttl\", format=\"turtle\")\n",
    "print(\"Graph saved to visitor_attractions_kg.ttl\")\n"
   ]
  },
  {
   "cell_type": "code",
   "execution_count": 8,
   "id": "6b5b13e5",
   "metadata": {},
   "outputs": [
    {
     "name": "stdout",
     "output_type": "stream",
     "text": [
      "Total triples: 10051\n",
      "\n",
      "(rdflib.term.URIRef(\"http://dbpedia.org/resource/St_Thomas'_Church,_Prague\"), rdflib.term.URIRef('http://example.org/kg/hasLocation'), rdflib.term.URIRef('http://example.org/kg/Prague'))\n",
      "(rdflib.term.URIRef('http://dbpedia.org/resource/Corum_(Montpellier)'), rdflib.term.URIRef('http://example.org/kg/hasLocation'), rdflib.term.URIRef('http://example.org/kg/Montpellier'))\n",
      "(rdflib.term.URIRef('http://dbpedia.org/resource/NRCA_Stadium'), rdflib.term.URIRef('http://www.w3.org/1999/02/22-rdf-syntax-ns#type'), rdflib.term.URIRef('http://example.org/kg/Sports_venues'))\n",
      "(rdflib.term.URIRef('http://dbpedia.org/resource/Herndon_ArtSpace'), rdflib.term.URIRef('http://example.org/kg/hasLocation'), rdflib.term.URIRef('http://example.org/kg/Fairfax_County,_Virginia'))\n",
      "(rdflib.term.URIRef('http://dbpedia.org/resource/Bird_Kingdom'), rdflib.term.URIRef('http://www.w3.org/1999/02/22-rdf-syntax-ns#type'), rdflib.term.URIRef('http://example.org/kg/Aviaries'))\n",
      "(rdflib.term.URIRef('http://dbpedia.org/resource/Carson–Iceberg_Wilderness'), rdflib.term.URIRef('http://www.w3.org/1999/02/22-rdf-syntax-ns#type'), rdflib.term.URIRef('http://example.org/kg/Protected_areas'))\n",
      "(rdflib.term.URIRef('http://dbpedia.org/resource/Mkama_Ndume'), rdflib.term.URIRef('http://example.org/kg/hasLocation'), rdflib.term.URIRef('http://example.org/kg/Tanzania'))\n",
      "(rdflib.term.URIRef('http://dbpedia.org/resource/Hollington_Wood'), rdflib.term.URIRef('http://example.org/kg/hasLocation'), rdflib.term.URIRef('http://example.org/kg/Buckinghamshire'))\n",
      "(rdflib.term.URIRef('http://dbpedia.org/resource/Nashville_School_of_Law'), rdflib.term.URIRef('http://example.org/kg/hasLocation'), rdflib.term.URIRef('http://example.org/kg/Nashville,_Tennessee'))\n",
      "(rdflib.term.URIRef('http://dbpedia.org/resource/Lardon_Chase,_the_Holies_and_Lough_Down'), rdflib.term.URIRef('http://www.w3.org/1999/02/22-rdf-syntax-ns#type'), rdflib.term.URIRef('http://example.org/kg/Protected_areas'))\n"
     ]
    }
   ],
   "source": [
    "g.parse(\"visitor_attractions_kg.ttl\", format=\"turtle\")\n",
    "# Print a few example triples\n",
    "print(f\"Total triples: {len(g)}\\n\")\n",
    "for i, triple in enumerate(g):\n",
    "    print(triple)\n",
    "    if i == 9:  # show first 10 triples only\n",
    "        break\n"
   ]
  },
  {
   "cell_type": "code",
   "execution_count": 9,
   "id": "f8cd9507",
   "metadata": {},
   "outputs": [
    {
     "name": "stdout",
     "output_type": "stream",
     "text": [
      "['http://www.wikidata.org/entity/Q1116546']\n"
     ]
    }
   ],
   "source": [
    "from SPARQLWrapper import SPARQLWrapper, JSON\n",
    "import pandas as pd\n",
    "\n",
    "DBPEDIA_SPARQL = \"https://dbpedia.org/sparql\"\n",
    "sparql = SPARQLWrapper(DBPEDIA_SPARQL)\n",
    "sparql.setReturnFormat(JSON)\n",
    "\n",
    "# Example: Get mappings for all POIs we already discovered\n",
    "def get_wikidata_mapping(poi_uri):\n",
    "    query = f\"\"\"\n",
    "    PREFIX owl: <http://www.w3.org/2002/07/owl#>\n",
    "    SELECT DISTINCT ?wikidata WHERE {{\n",
    "      <{poi_uri}> owl:sameAs ?wikidata .\n",
    "      FILTER(STRSTARTS(STR(?wikidata), \"http://www.wikidata.org/entity/\"))\n",
    "    }}\n",
    "    \"\"\"\n",
    "    sparql.setQuery(query)\n",
    "    results = sparql.query().convert()\n",
    "    return [r[\"wikidata\"][\"value\"] for r in results[\"results\"][\"bindings\"]]\n",
    "\n",
    "# Example test\n",
    "poi = \"http://dbpedia.org/resource/Palau_Reial_Major\"\n",
    "print(get_wikidata_mapping(poi))\n"
   ]
  },
  {
   "cell_type": "code",
   "execution_count": 10,
   "id": "3592d831",
   "metadata": {},
   "outputs": [
    {
     "name": "stdout",
     "output_type": "stream",
     "text": [
      "[('http://www.wikidata.org/entity/Q16560', 'palace')]\n"
     ]
    }
   ],
   "source": [
    "WIKIDATA_SPARQL = \"https://query.wikidata.org/sparql\"\n",
    "wd_sparql = SPARQLWrapper(WIKIDATA_SPARQL)\n",
    "wd_sparql.setReturnFormat(JSON)\n",
    "\n",
    "def get_wikidata_types(wd_entity_uri):\n",
    "    query = f\"\"\"\n",
    "    SELECT DISTINCT ?type ?typeLabel WHERE {{\n",
    "      <{wd_entity_uri}> wdt:P31 ?type .\n",
    "      SERVICE wikibase:label {{ bd:serviceParam wikibase:language \"en\". }}\n",
    "    }}\n",
    "    \"\"\"\n",
    "    wd_sparql.setQuery(query)\n",
    "    results = wd_sparql.query().convert()\n",
    "    return [(r[\"type\"][\"value\"], r[\"typeLabel\"][\"value\"]) for r in results[\"results\"][\"bindings\"]]\n",
    "\n",
    "# Example test\n",
    "print(get_wikidata_types(\"http://www.wikidata.org/entity/Q1116546\"))\n"
   ]
  },
  {
   "cell_type": "code",
   "execution_count": 11,
   "id": "cc9ae859",
   "metadata": {},
   "outputs": [
    {
     "name": "stdout",
     "output_type": "stream",
     "text": [
      "[('http://www.wikidata.org/entity/Q386724', 'work'), ('http://www.wikidata.org/entity/Q989946', 'shelter'), ('http://www.wikidata.org/entity/Q811979', 'architectural structure'), ('http://www.wikidata.org/entity/Q618123', 'geographical feature'), ('http://www.wikidata.org/entity/Q11755880', 'residential building'), ('http://www.wikidata.org/entity/Q134301417', 'E25 Human-Made Feature'), ('http://www.wikidata.org/entity/Q811430', 'fixed construction'), ('http://www.wikidata.org/entity/Q1403389', 'residential property'), ('http://www.wikidata.org/entity/Q11908691', 'artificial physical structure'), ('http://www.wikidata.org/entity/Q8205328', 'artificial physical object'), ('http://www.wikidata.org/entity/Q15710813', 'physical structure'), ('http://www.wikidata.org/entity/Q16686448', 'artificial object'), ('http://www.wikidata.org/entity/Q3947', 'house'), ('http://www.wikidata.org/entity/Q41176', 'building'), ('http://www.wikidata.org/entity/Q108147624', 'refuge')]\n"
     ]
    }
   ],
   "source": [
    "def get_superclasses(wd_type_uri):\n",
    "    query = f\"\"\"\n",
    "    PREFIX wdt: <http://www.wikidata.org/prop/direct/>\n",
    "    PREFIX wikibase: <http://wikiba.se/ontology#>\n",
    "    PREFIX bd: <http://www.bigdata.com/rdf#>\n",
    "\n",
    "    SELECT DISTINCT ?super ?superLabel WHERE {{\n",
    "      <{wd_type_uri}> (wdt:P279 | wdt:P279/wdt:P279 | wdt:P279/wdt:P279/wdt:P279) ?super .\n",
    "      SERVICE wikibase:label {{ bd:serviceParam wikibase:language \"en\". }}\n",
    "    }}\n",
    "    \"\"\"\n",
    "    wd_sparql.setQuery(query)\n",
    "    wd_sparql.setReturnFormat(JSON)\n",
    "    results = wd_sparql.query().convert()\n",
    "    return [(r[\"super\"][\"value\"], r[\"superLabel\"][\"value\"]) for r in results[\"results\"][\"bindings\"]]\n",
    "\n",
    "\n",
    "# Example: traverse 3 levels up from museum (Q33506)\n",
    "print(get_superclasses(\"http://www.wikidata.org/entity/Q16560\"))\n"
   ]
  },
  {
   "cell_type": "code",
   "execution_count": 12,
   "id": "9c61f081",
   "metadata": {},
   "outputs": [
    {
     "data": {
      "text/plain": [
       "'http://dbpedia.org/resource/Barcelona'"
      ]
     },
     "execution_count": 12,
     "metadata": {},
     "output_type": "execute_result"
    }
   ],
   "source": [
    "def to_dbpedia_uri(location_string):\n",
    "    # Replace spaces with underscores and prepend DBpedia prefix\n",
    "    clean = location_string.strip().replace(\" \", \"_\")\n",
    "    return f\"http://dbpedia.org/resource/{clean}\"\n",
    "\n",
    "to_dbpedia_uri(\"Barcelona\")\n",
    "# → http://dbpedia.org/resource/Barcelona\n"
   ]
  },
  {
   "cell_type": "code",
   "execution_count": 13,
   "id": "5ab9d055",
   "metadata": {},
   "outputs": [
    {
     "name": "stdout",
     "output_type": "stream",
     "text": [
      "http://dbpedia.org/resource/Chicago\n"
     ]
    }
   ],
   "source": [
    "DBPEDIA_SPARQL = \"https://dbpedia.org/sparql\"\n",
    "sparql = SPARQLWrapper(DBPEDIA_SPARQL)\n",
    "sparql.setReturnFormat(JSON)\n",
    "\n",
    "def resolve_redirect(uri):\n",
    "    query = f\"\"\"\n",
    "    PREFIX dbo: <http://dbpedia.org/ontology/>\n",
    "    SELECT ?target WHERE {{\n",
    "      <{uri}> dbo:wikiPageRedirects ?target .\n",
    "    }}\n",
    "    \"\"\"\n",
    "    sparql.setQuery(query)\n",
    "    results = sparql.query().convert()\n",
    "    bindings = results[\"results\"][\"bindings\"]\n",
    "    if bindings:\n",
    "        return bindings[0][\"target\"][\"value\"]  # redirected URI\n",
    "    return uri  # no redirect found\n",
    "\n",
    "# Example:\n",
    "print(resolve_redirect(\"http://dbpedia.org/resource/Chicago,_Illinois\"))\n",
    "# → http://dbpedia.org/resource/Chicago\n"
   ]
  },
  {
   "cell_type": "code",
   "execution_count": 14,
   "id": "d8e883ae",
   "metadata": {},
   "outputs": [
    {
     "name": "stdout",
     "output_type": "stream",
     "text": [
      "http://lt.dbpedia.org/resource/Barselona\n",
      "http://rdf.freebase.com/ns/m.01f62\n",
      "http://linkedgeodata.org/triplify/node152364165\n",
      "http://viaf.org/viaf/124213732\n",
      "http://api.nytimes.com/svc/semantic/v2/concept/name/nytd_geo/Barcelona%20(Spain)\n",
      "http://linked-web-apis.fit.cvut.cz/resource/barcelona_city\n",
      "http://sw.cyc.com/concept/Mx4rvVkLC5wpEbGdrcN5Y29ycA\n",
      "http://sws.geonames.org/3128760/\n",
      "http://yago-knowledge.org/resource/Barcelona\n",
      "http://d-nb.info/gnd/4004503-1\n",
      "http://commons.dbpedia.org/resource/Barcelona\n",
      "http://d-nb.info/gnd/8720-8\n",
      "http://musicbrainz.org/area/12c3b82e-fcab-4219-9bd5-792089d8280e\n",
      "http://viaf.org/viaf/241408827\n",
      "http://www.wikidata.org/entity/Q103145688\n",
      "http://www.wikidata.org/entity/Q1492\n",
      "http://sws.geonames.org/6356055/\n",
      "http://af.dbpedia.org/resource/Barcelona\n",
      "http://als.dbpedia.org/resource/Barcelona\n",
      "http://am.dbpedia.org/resource/ባርሴሎና\n",
      "http://an.dbpedia.org/resource/Barcelona\n",
      "http://ar.dbpedia.org/resource/برشلونة\n",
      "http://arz.dbpedia.org/resource/بارسلونا\n",
      "http://ast.dbpedia.org/resource/Barcelona\n",
      "http://az.dbpedia.org/resource/Barselona\n",
      "http://azb.dbpedia.org/resource/بارسلونا\n",
      "http://ba.dbpedia.org/resource/Барселона\n",
      "http://bar.dbpedia.org/resource/Barcelona\n",
      "http://be.dbpedia.org/resource/Барселона\n",
      "http://bg.dbpedia.org/resource/Барселона\n",
      "http://bn.dbpedia.org/resource/বার্সেলোনা\n",
      "http://br.dbpedia.org/resource/Barcelona\n",
      "http://bs.dbpedia.org/resource/Barcelona\n",
      "http://ca.dbpedia.org/resource/Barcelona\n",
      "http://ceb.dbpedia.org/resource/Barcelona\n",
      "http://ckb.dbpedia.org/resource/بارسێلۆنا\n",
      "http://cs.dbpedia.org/resource/Barcelona\n",
      "http://cv.dbpedia.org/resource/Барселона\n",
      "http://cy.dbpedia.org/resource/Barcelona\n",
      "http://da.dbpedia.org/resource/Barcelona\n",
      "http://de.dbpedia.org/resource/Barcelona\n",
      "http://el.dbpedia.org/resource/Βαρκελώνη\n",
      "http://eo.dbpedia.org/resource/Barcelono\n",
      "http://es.dbpedia.org/resource/Barcelona\n",
      "http://et.dbpedia.org/resource/Barcelona\n",
      "http://eu.dbpedia.org/resource/Bartzelona\n",
      "http://fa.dbpedia.org/resource/بارسلون\n",
      "http://fi.dbpedia.org/resource/Barcelona\n",
      "http://fo.dbpedia.org/resource/Barcelona\n",
      "http://fr.dbpedia.org/resource/Barcelone\n",
      "http://fy.dbpedia.org/resource/Barcelona\n",
      "http://ga.dbpedia.org/resource/Barcelona\n",
      "http://gd.dbpedia.org/resource/Barcelona\n",
      "http://gl.dbpedia.org/resource/Barcelona\n",
      "http://he.dbpedia.org/resource/ברצלונה\n",
      "http://hi.dbpedia.org/resource/बार्सिलोना\n",
      "http://hr.dbpedia.org/resource/Barcelona\n",
      "http://hsb.dbpedia.org/resource/Barcelona\n",
      "http://ht.dbpedia.org/resource/Baselòn\n",
      "http://hu.dbpedia.org/resource/Barcelona\n",
      "http://hy.dbpedia.org/resource/Բարսելոնա\n",
      "http://ia.dbpedia.org/resource/Barcelona\n",
      "http://id.dbpedia.org/resource/Barcelona\n",
      "http://io.dbpedia.org/resource/Barcelona\n",
      "http://is.dbpedia.org/resource/Barselóna\n",
      "http://it.dbpedia.org/resource/Barcellona\n",
      "http://ja.dbpedia.org/resource/バルセロナ\n",
      "http://jv.dbpedia.org/resource/Barcelona\n",
      "http://ka.dbpedia.org/resource/ბარსელონა\n",
      "http://kk.dbpedia.org/resource/Барселона\n",
      "http://ko.dbpedia.org/resource/바르셀로나\n",
      "http://ku.dbpedia.org/resource/Barselona\n",
      "http://ky.dbpedia.org/resource/Барселона\n",
      "http://la.dbpedia.org/resource/Barcino\n",
      "http://lb.dbpedia.org/resource/Barcelona\n",
      "http://li.dbpedia.org/resource/Barcelona\n",
      "http://lmo.dbpedia.org/resource/Barcelona\n",
      "http://lv.dbpedia.org/resource/Barselona\n",
      "http://mg.dbpedia.org/resource/Barselona\n",
      "http://mk.dbpedia.org/resource/Барселона\n",
      "http://ml.dbpedia.org/resource/ബാഴ്സലോണ\n",
      "http://mn.dbpedia.org/resource/Барселон\n",
      "http://mr.dbpedia.org/resource/बार्सिलोना\n",
      "http://ms.dbpedia.org/resource/Barcelona\n",
      "http://my.dbpedia.org/resource/ဘာစီလိုနာမြို့\n",
      "http://mzn.dbpedia.org/resource/بارسلون\n",
      "http://nap.dbpedia.org/resource/Barcellona\n",
      "http://nds.dbpedia.org/resource/Barcelona\n",
      "http://ne.dbpedia.org/resource/बार्सिलोना\n",
      "http://new.dbpedia.org/resource/बार्सेलोना\n",
      "http://nl.dbpedia.org/resource/Barcelona_(Spanje)\n",
      "http://nn.dbpedia.org/resource/Barcelona\n",
      "http://no.dbpedia.org/resource/Barcelona\n",
      "http://oc.dbpedia.org/resource/Barcelona\n",
      "http://os.dbpedia.org/resource/Барселонæ\n",
      "http://pa.dbpedia.org/resource/ਬਾਰਸੀਲੋਨਾ\n",
      "http://pl.dbpedia.org/resource/Barcelona\n",
      "http://pms.dbpedia.org/resource/Barslon-a\n",
      "http://pnb.dbpedia.org/resource/بارسیلونا\n",
      "http://pt.dbpedia.org/resource/Barcelona\n",
      "http://qu.dbpedia.org/resource/Barcelona\n",
      "http://ro.dbpedia.org/resource/Barcelona\n",
      "http://ru.dbpedia.org/resource/Барселона\n",
      "http://sa.dbpedia.org/resource/बार्सेलोना\n",
      "http://sah.dbpedia.org/resource/Барселона\n",
      "http://scn.dbpedia.org/resource/Barcillona_(Spagna)\n",
      "http://sco.dbpedia.org/resource/Barcelona\n",
      "http://sh.dbpedia.org/resource/Barcelona\n",
      "http://simple.dbpedia.org/resource/Barcelona\n",
      "http://sk.dbpedia.org/resource/Barcelona\n",
      "http://sl.dbpedia.org/resource/Barcelona\n",
      "http://sq.dbpedia.org/resource/Barcelona\n",
      "http://sr.dbpedia.org/resource/Барселона\n",
      "http://sv.dbpedia.org/resource/Barcelona\n",
      "http://sw.dbpedia.org/resource/Barcelona\n",
      "http://ta.dbpedia.org/resource/பார்செலோனா\n",
      "http://tg.dbpedia.org/resource/Барселона\n",
      "http://th.dbpedia.org/resource/บาร์เซโลนา\n",
      "http://tl.dbpedia.org/resource/Lungsod_ng_Barcelona\n",
      "http://tr.dbpedia.org/resource/Barselona\n",
      "http://tt.dbpedia.org/resource/Барселона\n",
      "http://uk.dbpedia.org/resource/Барселона\n",
      "http://ur.dbpedia.org/resource/برشلونہ\n",
      "http://uz.dbpedia.org/resource/Barselona\n",
      "http://vec.dbpedia.org/resource/Barcełona\n",
      "http://vi.dbpedia.org/resource/Barcelona\n",
      "http://vo.dbpedia.org/resource/Barcelona\n",
      "http://wa.dbpedia.org/resource/Bårçulone\n",
      "http://war.dbpedia.org/resource/Barcelona\n",
      "http://yi.dbpedia.org/resource/בארצעלאנע\n",
      "http://zh.dbpedia.org/resource/巴塞罗那\n",
      "http://ce.dbpedia.org/resource/Барселона\n",
      "https://data.globalnewsgraph.org/gng/place_location/barcelona\n",
      "https://global.dbpedia.org/id/VfFt\n"
     ]
    }
   ],
   "source": [
    "def get_sameas_links(dbpedia_uri):\n",
    "    query = f\"\"\"\n",
    "    PREFIX owl: <http://www.w3.org/2002/07/owl#>\n",
    "    SELECT DISTINCT ?same WHERE {{\n",
    "      <{dbpedia_uri}> owl:sameAs ?same .\n",
    "    }}\n",
    "    \"\"\"\n",
    "    sparql.setQuery(query)\n",
    "    results = sparql.query().convert()\n",
    "    return [b[\"same\"][\"value\"] for b in results[\"results\"][\"bindings\"]]\n",
    "\n",
    "# Example\n",
    "links = get_sameas_links(\"http://dbpedia.org/resource/Barcelona\")\n",
    "for l in links:\n",
    "    print(l)\n"
   ]
  },
  {
   "cell_type": "code",
   "execution_count": 15,
   "id": "72407dfc",
   "metadata": {},
   "outputs": [
    {
     "name": "stdout",
     "output_type": "stream",
     "text": [
      "True\n"
     ]
    }
   ],
   "source": [
    "WIKIDATA_SPARQL = \"https://query.wikidata.org/sparql\"\n",
    "wd_sparql = SPARQLWrapper(WIKIDATA_SPARQL)\n",
    "wd_sparql.setReturnFormat(JSON)\n",
    "\n",
    "def is_city_wikidata(wd_uri):\n",
    "    query = f\"\"\"\n",
    "    PREFIX wdt: <http://www.wikidata.org/prop/direct/>\n",
    "    PREFIX wd: <http://www.wikidata.org/entity/>\n",
    "    ASK {{\n",
    "      <{wd_uri}> (wdt:P31/wdt:P279*) wd:Q515 .\n",
    "    }}\n",
    "    \"\"\"\n",
    "    wd_sparql.setQuery(query)\n",
    "    return wd_sparql.query().convert()[\"boolean\"]\n",
    "\n",
    "# Example\n",
    "print(is_city_wikidata(\"http://www.wikidata.org/entity/Q1492\"))  # Barcelona\n",
    "# → True\n"
   ]
  },
  {
   "cell_type": "code",
   "execution_count": 16,
   "id": "3979e62d",
   "metadata": {},
   "outputs": [],
   "source": [
    "def is_city_geonames(geonames_uri, cities1000_path=\"cities1000.txt\"):\n",
    "    geoname_id = geonames_uri.split(\"/\")[-2]\n",
    "    with open(cities1000_path, encoding=\"utf-8\") as f:\n",
    "        for line in f:\n",
    "            if line.startswith(geoname_id + \"\\t\"):\n",
    "                return True\n",
    "    return False\n"
   ]
  },
  {
   "cell_type": "code",
   "execution_count": 17,
   "id": "5e94ebc1",
   "metadata": {},
   "outputs": [
    {
     "name": "stdout",
     "output_type": "stream",
     "text": [
      "{'location_string': 'Chicago,_Illinois', 'dbpedia_uri': 'http://dbpedia.org/resource/Chicago', 'wikidata_uri': 'http://www.wikidata.org/entity/Q1297', 'geonames_uri': 'http://sws.geonames.org/4887398/', 'is_city': True}\n"
     ]
    }
   ],
   "source": [
    "def link_poi_to_city(location_string):\n",
    "    db_uri = to_dbpedia_uri(location_string)\n",
    "    resolved = resolve_redirect(db_uri)\n",
    "    links = get_sameas_links(resolved)\n",
    "\n",
    "    wd_links = [l for l in links if \"wikidata.org/entity\" in l]\n",
    "    geo_links = [l for l in links if \"geonames.org\" in l]\n",
    "\n",
    "    is_city = False\n",
    "    if wd_links:\n",
    "        is_city = is_city_wikidata(wd_links[0])\n",
    "    elif geo_links:\n",
    "        is_city = is_city_geonames(geo_links[0])\n",
    "\n",
    "    return {\n",
    "        \"location_string\": location_string,\n",
    "        \"dbpedia_uri\": resolved,\n",
    "        \"wikidata_uri\": wd_links[0] if wd_links else None,\n",
    "        \"geonames_uri\": geo_links[0] if geo_links else None,\n",
    "        \"is_city\": is_city\n",
    "    }\n",
    "\n",
    "print(link_poi_to_city(\"Chicago,_Illinois\"))\n"
   ]
  },
  {
   "cell_type": "code",
   "execution_count": 19,
   "id": "af08acf7",
   "metadata": {},
   "outputs": [
    {
     "name": "stdout",
     "output_type": "stream",
     "text": [
      "@prefix ns1: <http://example.org/ontology/> .\n",
      "@prefix owl: <http://www.w3.org/2002/07/owl#> .\n",
      "@prefix xsd: <http://www.w3.org/2001/XMLSchema#> .\n",
      "\n",
      "<http://dbpedia.org/resource/Palau_Reial_Major> a ns1:Palaces ;\n",
      "    ns1:locatedIn <http://dbpedia.org/resource/Barcelona> ;\n",
      "    ns1:locationString \"Barcelona\" ;\n",
      "    ns1:typeString \"Palaces\" .\n",
      "\n",
      "<http://dbpedia.org/resource/Barcelona> a ns1:City ;\n",
      "    ns1:isVerifiedCity true ;\n",
      "    owl:sameAs <http://sws.geonames.org/3128760/>,\n",
      "        <http://www.wikidata.org/entity/Q1492> .\n",
      "\n",
      "\n"
     ]
    }
   ],
   "source": [
    "from rdflib import Graph, Namespace, URIRef, Literal\n",
    "from rdflib.namespace import RDF, OWL, XSD\n",
    "\n",
    "def create_poi_city_triples(poi_uri, type_string, location_info):\n",
    "    g = Graph()\n",
    "\n",
    "    EX = Namespace(\"http://example.org/ontology/\")\n",
    "    DBR = Namespace(\"http://dbpedia.org/resource/\")\n",
    "    WD = Namespace(\"http://www.wikidata.org/entity/\")\n",
    "    GEO = Namespace(\"http://sws.geonames.org/\")\n",
    "    \n",
    "    poi = URIRef(poi_uri)\n",
    "    city = URIRef(location_info[\"dbpedia_uri\"])\n",
    "\n",
    "    # POI triples\n",
    "    g.add((poi, RDF.type, EX[type_string]))\n",
    "    g.add((poi, EX.locatedIn, city))\n",
    "    g.add((poi, EX.typeString, Literal(type_string)))\n",
    "    g.add((poi, EX.locationString, Literal(location_info[\"location_string\"])))\n",
    "\n",
    "    # City triples\n",
    "    g.add((city, RDF.type, EX.City))\n",
    "    if location_info.get(\"wikidata_uri\"):\n",
    "        g.add((city, OWL.sameAs, URIRef(location_info[\"wikidata_uri\"])))\n",
    "    if location_info.get(\"geonames_uri\"):\n",
    "        g.add((city, OWL.sameAs, URIRef(location_info[\"geonames_uri\"])))\n",
    "    g.add((city, EX.isVerifiedCity, Literal(location_info[\"is_city\"], datatype=XSD.boolean)))\n",
    "\n",
    "    return g\n",
    "\n",
    "# Example usage:\n",
    "location_info = {\n",
    "    \"location_string\": \"Barcelona\",\n",
    "    \"dbpedia_uri\": \"http://dbpedia.org/resource/Barcelona\",\n",
    "    \"wikidata_uri\": \"http://www.wikidata.org/entity/Q1492\",\n",
    "    \"geonames_uri\": \"http://sws.geonames.org/3128760/\",\n",
    "    \"is_city\": True\n",
    "}\n",
    "\n",
    "g = create_poi_city_triples(\"http://dbpedia.org/resource/Palau_Reial_Major\", \"Palaces\", location_info)\n",
    "print(g.serialize(format=\"turtle\"))\n"
   ]
  }
 ],
 "metadata": {
  "kernelspec": {
   "display_name": "kgtp",
   "language": "python",
   "name": "python3"
  },
  "language_info": {
   "codemirror_mode": {
    "name": "ipython",
    "version": 3
   },
   "file_extension": ".py",
   "mimetype": "text/x-python",
   "name": "python",
   "nbconvert_exporter": "python",
   "pygments_lexer": "ipython3",
   "version": "3.12.12"
  }
 },
 "nbformat": 4,
 "nbformat_minor": 5
}
