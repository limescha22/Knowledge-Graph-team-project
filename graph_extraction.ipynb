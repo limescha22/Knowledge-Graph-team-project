{
 "cells": [
  {
   "cell_type": "code",
   "execution_count": 23,
   "id": "caddb33b",
   "metadata": {},
   "outputs": [],
   "source": [
    "from SPARQLWrapper import SPARQLWrapper, JSON\n",
    "import re\n",
    "import pandas as pd\n",
    "from tqdm import tqdm\n",
    "from rdflib import Graph, URIRef, Literal, Namespace, RDF, RDFS\n",
    "\n",
    "# -------------------------------\n",
    "# 1. Setup DBpedia SPARQL endpoint\n",
    "# -------------------------------\n",
    "DBPEDIA_SPARQL = \"https://dbpedia.org/sparql\"\n",
    "sparql = SPARQLWrapper(DBPEDIA_SPARQL)\n",
    "sparql.setReturnFormat(JSON)\n",
    "\n",
    "# Namespace shortcuts\n",
    "DCT = Namespace(\"http://purl.org/dc/terms/\")\n",
    "SKOS = Namespace(\"http://www.w3.org/2004/02/skos/core#\")\n",
    "EX = Namespace(\"http://example.org/kg/\")  # for our custom triples\n",
    "\n",
    "\n",
    "# -------------------------------\n",
    "# 2. Function: Get categories matching \"Visitor_attractions_in_*\"\n",
    "# -------------------------------\n",
    "def get_visitor_attraction_categories(limit=10):\n",
    "    \"\"\"\n",
    "    Retrieve categories that start with Category:Visitor_attractions_in_\n",
    "    For demo, limit results.\n",
    "    \"\"\"\n",
    "    query = f\"\"\"\n",
    "    SELECT DISTINCT ?category WHERE {{\n",
    "      ?category a skos:Concept .\n",
    "      FILTER regex(str(?category), \"^http://dbpedia.org/resource/Category:Tourist_attractions_in_\")\n",
    "    }} LIMIT {limit}\n",
    "    \"\"\"\n",
    "    sparql.setQuery(query)\n",
    "    results = sparql.query().convert()\n",
    "    return [r['category']['value'] for r in results['results']['bindings']]\n",
    "\n",
    "\n",
    "# -------------------------------\n",
    "# 3. Function: Get POIs for a given category\n",
    "# -------------------------------\n",
    "def get_pois_for_category(category_uri):\n",
    "    query = f\"\"\"\n",
    "    SELECT DISTINCT ?POI ?category WHERE {{\n",
    "      ?POI <http://purl.org/dc/terms/subject> ?category .\n",
    "      ?category <http://www.w3.org/2004/02/skos/core#broader> <{category_uri}> .\n",
    "    }}\n",
    "    \"\"\"\n",
    "    sparql.setQuery(query)\n",
    "    results = sparql.query().convert()\n",
    "    pois = []\n",
    "    for r in results['results']['bindings']:\n",
    "        poi = r['POI']['value']\n",
    "        cat = r['category']['value']\n",
    "        pois.append((poi, cat))\n",
    "    return pois\n",
    "\n",
    "\n",
    "# -------------------------------\n",
    "# 4. Regex-based syntactic verification\n",
    "# -------------------------------\n",
    "CATEGORY_REGEX = re.compile(r\"http://dbpedia\\.org/resource/Category:(.+?)_(in|of)_(.+)\")\n",
    "\n",
    "def parse_category_uri(category_uri):\n",
    "    m = CATEGORY_REGEX.match(category_uri)\n",
    "    if m:\n",
    "        type_str = m.group(1).replace(\"_\", \" \")\n",
    "        location_str = m.group(3).replace(\"_\", \" \")\n",
    "        return type_str, location_str\n",
    "    return None, None\n",
    "\n"
   ]
  },
  {
   "cell_type": "code",
   "execution_count": 36,
   "id": "ff33b7b4",
   "metadata": {},
   "outputs": [
    {
     "name": "stdout",
     "output_type": "stream",
     "text": [
      "Found 100 categories\n",
      "['http://dbpedia.org/resource/Category:Tourist_attractions_in_Amsterdam', 'http://dbpedia.org/resource/Category:Tourist_attractions_in_Anaheim,_California', 'http://dbpedia.org/resource/Category:Tourist_attractions_in_Bergen_County,_New_Jersey', 'http://dbpedia.org/resource/Category:Tourist_attractions_in_Caddo_County,_Oklahoma', 'http://dbpedia.org/resource/Category:Tourist_attractions_in_Canada', 'http://dbpedia.org/resource/Category:Tourist_attractions_in_County_Donegal', 'http://dbpedia.org/resource/Category:Tourist_attractions_in_Cumberland_County,_Nova_Scotia', 'http://dbpedia.org/resource/Category:Tourist_attractions_in_Dakota_County,_Minnesota', 'http://dbpedia.org/resource/Category:Tourist_attractions_in_Detroit', 'http://dbpedia.org/resource/Category:Tourist_attractions_in_Duval_County,_Florida', 'http://dbpedia.org/resource/Category:Tourist_attractions_in_Fairfax_County,_Virginia', 'http://dbpedia.org/resource/Category:Tourist_attractions_in_Fremont_County,_Idaho', 'http://dbpedia.org/resource/Category:Tourist_attractions_in_Hérault', 'http://dbpedia.org/resource/Category:Tourist_attractions_in_Indonesia', 'http://dbpedia.org/resource/Category:Tourist_attractions_in_Innsbruck', 'http://dbpedia.org/resource/Category:Tourist_attractions_in_Iowa_County,_Wisconsin', 'http://dbpedia.org/resource/Category:Tourist_attractions_in_Iron_County,_Utah', 'http://dbpedia.org/resource/Category:Tourist_attractions_in_Kadapa_district', 'http://dbpedia.org/resource/Category:Tourist_attractions_in_Kansas_City,_Missouri', 'http://dbpedia.org/resource/Category:Tourist_attractions_in_Kathmandu', 'http://dbpedia.org/resource/Category:Tourist_attractions_in_Key_West,_Florida', 'http://dbpedia.org/resource/Category:Tourist_attractions_in_Lawrence,_Kansas', 'http://dbpedia.org/resource/Category:Tourist_attractions_in_Lyon', 'http://dbpedia.org/resource/Category:Tourist_attractions_in_Manchester,_New_Hampshire', 'http://dbpedia.org/resource/Category:Tourist_attractions_in_Miami-Dade_County,_Florida', 'http://dbpedia.org/resource/Category:Tourist_attractions_in_Montana', 'http://dbpedia.org/resource/Category:Tourist_attractions_in_Montgomery_County,_Pennsylvania', 'http://dbpedia.org/resource/Category:Tourist_attractions_in_Muğla_Province', 'http://dbpedia.org/resource/Category:Tourist_attractions_in_Nassau_County,_Florida', 'http://dbpedia.org/resource/Category:Tourist_attractions_in_New_Haven,_Connecticut', 'http://dbpedia.org/resource/Category:Tourist_attractions_in_Niagara_County,_New_York', 'http://dbpedia.org/resource/Category:Tourist_attractions_in_Osaka', 'http://dbpedia.org/resource/Category:Tourist_attractions_in_Palm_Beach_County,_Florida', 'http://dbpedia.org/resource/Category:Tourist_attractions_in_Park_County,_Wyoming', 'http://dbpedia.org/resource/Category:Tourist_attractions_in_Pierce_County,_Washington', 'http://dbpedia.org/resource/Category:Tourist_attractions_in_Prague', 'http://dbpedia.org/resource/Category:Tourist_attractions_in_Provo,_Utah', 'http://dbpedia.org/resource/Category:Tourist_attractions_in_Pärnu_County', 'http://dbpedia.org/resource/Category:Tourist_attractions_in_Racha-Lechkhumi_and_Kvemo_Svaneti', 'http://dbpedia.org/resource/Category:Tourist_attractions_in_Rift_Valley_Province', 'http://dbpedia.org/resource/Category:Tourist_attractions_in_Rockingham_County,_New_Hampshire', 'http://dbpedia.org/resource/Category:Tourist_attractions_in_Saint_Paul,_Minnesota', 'http://dbpedia.org/resource/Category:Tourist_attractions_in_Samut_Songkhram_province', 'http://dbpedia.org/resource/Category:Tourist_attractions_in_Santa_Cruz_Department_(Bolivia)', 'http://dbpedia.org/resource/Category:Tourist_attractions_in_Sheboygan_County,_Wisconsin', 'http://dbpedia.org/resource/Category:Tourist_attractions_in_Sikkim', 'http://dbpedia.org/resource/Category:Tourist_attractions_in_Silicon_Valley', 'http://dbpedia.org/resource/Category:Tourist_attractions_in_Sindhudurg_district', 'http://dbpedia.org/resource/Category:Tourist_attractions_in_South_24_Parganas_district', 'http://dbpedia.org/resource/Category:Tourist_attractions_in_Taitung_County', 'http://dbpedia.org/resource/Category:Tourist_attractions_in_Tangier', 'http://dbpedia.org/resource/Category:Tourist_attractions_in_Tanzania', 'http://dbpedia.org/resource/Category:Tourist_attractions_in_Utah_County,_Utah', 'http://dbpedia.org/resource/Category:Tourist_attractions_in_Uzbekistan', 'http://dbpedia.org/resource/Category:Tourist_attractions_in_Vellore', 'http://dbpedia.org/resource/Category:Tourist_attractions_in_the_Auckland_Region', 'http://dbpedia.org/resource/Category:Tourist_attractions_in_Allegheny_County,_Pennsylvania', 'http://dbpedia.org/resource/Category:Tourist_attractions_in_Allen_County,_Indiana', 'http://dbpedia.org/resource/Category:Tourist_attractions_in_Alpine_County,_California', 'http://dbpedia.org/resource/Category:Tourist_attractions_in_Angeles_City', 'http://dbpedia.org/resource/Category:Tourist_attractions_in_Beaumont,_Texas', 'http://dbpedia.org/resource/Category:Tourist_attractions_in_Bedford_County,_Pennsylvania', 'http://dbpedia.org/resource/Category:Tourist_attractions_in_Bedfordshire', 'http://dbpedia.org/resource/Category:Tourist_attractions_in_Beizhen', 'http://dbpedia.org/resource/Category:Tourist_attractions_in_Berkshire', 'http://dbpedia.org/resource/Category:Tourist_attractions_in_Blaenau_Gwent', 'http://dbpedia.org/resource/Category:Tourist_attractions_in_Bowling_Green,_Kentucky', 'http://dbpedia.org/resource/Category:Tourist_attractions_in_Bridgeport,_Connecticut', 'http://dbpedia.org/resource/Category:Tourist_attractions_in_Buckinghamshire', 'http://dbpedia.org/resource/Category:Tourist_attractions_in_Carbon_County,_Montana', 'http://dbpedia.org/resource/Category:Tourist_attractions_in_Carter_County,_Tennessee', 'http://dbpedia.org/resource/Category:Tourist_attractions_in_Ceará', 'http://dbpedia.org/resource/Category:Tourist_attractions_in_Chippewa_County,_Michigan', 'http://dbpedia.org/resource/Category:Tourist_attractions_in_Columbiana_County,_Ohio', 'http://dbpedia.org/resource/Category:Tourist_attractions_in_Corpus_Christi,_Texas', 'http://dbpedia.org/resource/Category:Tourist_attractions_in_County_Roscommon', 'http://dbpedia.org/resource/Category:Tourist_attractions_in_Cumberland_County,_Maine', 'http://dbpedia.org/resource/Category:Tourist_attractions_in_Custer_County,_South_Dakota', 'http://dbpedia.org/resource/Category:Tourist_attractions_in_Cuyahoga_County,_Ohio', 'http://dbpedia.org/resource/Category:Tourist_attractions_in_Delaware_County,_New_York', 'http://dbpedia.org/resource/Category:Tourist_attractions_in_Eagle_County,_Colorado', 'http://dbpedia.org/resource/Category:Tourist_attractions_in_East_Kalimantan', 'http://dbpedia.org/resource/Category:Tourist_attractions_in_Erie,_Pennsylvania', 'http://dbpedia.org/resource/Category:Tourist_attractions_in_Eureka,_California', 'http://dbpedia.org/resource/Category:Tourist_attractions_in_Hill_County,_Montana', 'http://dbpedia.org/resource/Category:Tourist_attractions_in_Hsinchu_County', 'http://dbpedia.org/resource/Category:Tourist_attractions_in_Inhambane_Province', 'http://dbpedia.org/resource/Category:Tourist_attractions_in_Iraqi_Kurdistan', 'http://dbpedia.org/resource/Category:Tourist_attractions_in_Jilin', 'http://dbpedia.org/resource/Category:Tourist_attractions_in_Kalkaska_County,_Michigan', 'http://dbpedia.org/resource/Category:Tourist_attractions_in_Kurdistan', 'http://dbpedia.org/resource/Category:Tourist_attractions_in_Larimer_County,_Colorado', 'http://dbpedia.org/resource/Category:Tourist_attractions_in_Liaoning', 'http://dbpedia.org/resource/Category:Tourist_attractions_in_Lorestan_Province', 'http://dbpedia.org/resource/Category:Tourist_attractions_in_Luzerne_County,_Pennsylvania', 'http://dbpedia.org/resource/Category:Tourist_attractions_in_Mahoba_district', 'http://dbpedia.org/resource/Category:Tourist_attractions_in_Mecklenburg-Western_Pomerania', 'http://dbpedia.org/resource/Category:Tourist_attractions_in_Memphis,_Tennessee', 'http://dbpedia.org/resource/Category:Tourist_attractions_in_Nashville,_Tennessee', 'http://dbpedia.org/resource/Category:Tourist_attractions_in_Northumberland_County,_New_Brunswick']\n"
     ]
    }
   ],
   "source": [
    "# -------------------------------\n",
    "# 5. Main pipeline\n",
    "# -------------------------------\n",
    "all_records = []\n",
    "\n",
    "categories = get_visitor_attraction_categories(limit=100)  # adjust limit\n",
    "print(f\"Found {len(categories)} categories\")\n",
    "print(categories)\n"
   ]
  },
  {
   "cell_type": "code",
   "execution_count": 37,
   "id": "65160abc",
   "metadata": {},
   "outputs": [
    {
     "name": "stderr",
     "output_type": "stream",
     "text": [
      "Processing categories: 100%|██████████| 100/100 [00:10<00:00,  9.51it/s]\n"
     ]
    }
   ],
   "source": [
    "\n",
    "for cat_uri in tqdm(categories, desc=\"Processing categories\"):\n",
    "    pairs = get_pois_for_category(cat_uri)\n",
    "    for poi_uri, category_uri in pairs:\n",
    "        type_str, location_str = parse_category_uri(category_uri)\n",
    "        if type_str and location_str:\n",
    "            all_records.append({\n",
    "                \"POI\": poi_uri,\n",
    "                \"Category\": category_uri,\n",
    "                \"Type\": type_str,\n",
    "                \"Location\": location_str\n",
    "            })\n",
    "\n",
    "df = pd.DataFrame(all_records)"
   ]
  },
  {
   "cell_type": "code",
   "execution_count": null,
   "id": "847901a3",
   "metadata": {},
   "outputs": [
    {
     "name": "stdout",
     "output_type": "stream",
     "text": [
      "                                                   POI  \\\n",
      "241        http://dbpedia.org/resource/Baylor_Massacre   \n",
      "242  http://dbpedia.org/resource/Holy_Cross_Cemeter...   \n",
      "243  http://dbpedia.org/resource/Riverside_Cemetery...   \n",
      "244  http://dbpedia.org/resource/George_Washington_...   \n",
      "245    http://dbpedia.org/resource/Gethsemane_Cemetery   \n",
      "\n",
      "                                              Category        Type  \\\n",
      "241  http://dbpedia.org/resource/Category:Cemeterie...  Cemeteries   \n",
      "242  http://dbpedia.org/resource/Category:Cemeterie...  Cemeteries   \n",
      "243  http://dbpedia.org/resource/Category:Cemeterie...  Cemeteries   \n",
      "244  http://dbpedia.org/resource/Category:Cemeterie...  Cemeteries   \n",
      "245  http://dbpedia.org/resource/Category:Cemeterie...  Cemeteries   \n",
      "\n",
      "                      Location  \n",
      "241  Bergen County, New Jersey  \n",
      "242  Bergen County, New Jersey  \n",
      "243  Bergen County, New Jersey  \n",
      "244  Bergen County, New Jersey  \n",
      "245  Bergen County, New Jersey  \n"
     ]
    }
   ],
   "source": [
    "print(df[df[\"Location\"] == \"Bergen County, New Jersey\"].head())"
   ]
  },
  {
   "cell_type": "code",
   "execution_count": 40,
   "id": "370f6615",
   "metadata": {},
   "outputs": [
    {
     "name": "stdout",
     "output_type": "stream",
     "text": [
      "\n",
      "Generated RDF triples: 10051\n",
      "Graph saved to visitor_attractions_kg.ttl\n"
     ]
    }
   ],
   "source": [
    "\n",
    "# -------------------------------\n",
    "# 6. Build a mini Knowledge Graph (RDF) locally\n",
    "# -------------------------------\n",
    "g = Graph()\n",
    "g.bind(\"ex\", EX)\n",
    "g.bind(\"rdfs\", RDFS)\n",
    "\n",
    "for _, row in df.iterrows():\n",
    "    poi_uri = URIRef(row[\"POI\"])\n",
    "    type_uri = EX[row[\"Type\"].replace(\" \", \"_\")]\n",
    "    location_uri = EX[row[\"Location\"].replace(\" \", \"_\")]\n",
    "\n",
    "    # Store relationships\n",
    "    g.add((poi_uri, RDF.type, type_uri))\n",
    "    g.add((poi_uri, EX.hasLocation, location_uri))\n",
    "\n",
    "    # Add hierarchy (type subclassOf Visitor_attractions)\n",
    "    g.add((type_uri, RDFS.subClassOf, EX.Visitor_attractions))\n",
    "\n",
    "print(f\"\\nGenerated RDF triples: {len(g)}\")\n",
    "\n",
    "# Save graph to file\n",
    "g.serialize(destination=\"visitor_attractions_kg.ttl\", format=\"turtle\")\n",
    "print(\"Graph saved to visitor_attractions_kg.ttl\")\n"
   ]
  },
  {
   "cell_type": "code",
   "execution_count": 41,
   "id": "6b5b13e5",
   "metadata": {},
   "outputs": [
    {
     "name": "stdout",
     "output_type": "stream",
     "text": [
      "Total triples: 10051\n",
      "\n",
      "(rdflib.term.URIRef('http://dbpedia.org/resource/Baylor_Massacre'), rdflib.term.URIRef('http://www.w3.org/1999/02/22-rdf-syntax-ns#type'), rdflib.term.URIRef('http://example.org/kg/Cemeteries'))\n",
      "(rdflib.term.URIRef('http://dbpedia.org/resource/Ambarrukmo_Plaza'), rdflib.term.URIRef('http://example.org/kg/hasLocation'), rdflib.term.URIRef('http://example.org/kg/Indonesia'))\n",
      "(rdflib.term.URIRef('http://dbpedia.org/resource/List_of_monastic_houses_in_Bedfordshire'), rdflib.term.URIRef('http://example.org/kg/hasLocation'), rdflib.term.URIRef('http://example.org/kg/Bedfordshire'))\n",
      "(rdflib.term.URIRef('http://dbpedia.org/resource/Lake_Ambussel'), rdflib.term.URIRef('http://www.w3.org/1999/02/22-rdf-syntax-ns#type'), rdflib.term.URIRef('http://example.org/kg/Lakes'))\n",
      "(rdflib.term.URIRef('http://dbpedia.org/resource/Adams_Park'), rdflib.term.URIRef('http://www.w3.org/1999/02/22-rdf-syntax-ns#type'), rdflib.term.URIRef('http://example.org/kg/Sports_venues'))\n",
      "(rdflib.term.URIRef('http://dbpedia.org/resource/Watauga_Lake'), rdflib.term.URIRef('http://www.w3.org/1999/02/22-rdf-syntax-ns#type'), rdflib.term.URIRef('http://example.org/kg/Protected_areas'))\n",
      "(rdflib.term.URIRef('http://dbpedia.org/resource/Troja_Palace'), rdflib.term.URIRef('http://www.w3.org/1999/02/22-rdf-syntax-ns#type'), rdflib.term.URIRef('http://example.org/kg/Castles'))\n",
      "(rdflib.term.URIRef('http://dbpedia.org/resource/Press_Museum'), rdflib.term.URIRef('http://www.w3.org/1999/02/22-rdf-syntax-ns#type'), rdflib.term.URIRef('http://example.org/kg/Museums'))\n",
      "(rdflib.term.URIRef('http://dbpedia.org/resource/Winston_Bronnum'), rdflib.term.URIRef('http://www.w3.org/1999/02/22-rdf-syntax-ns#type'), rdflib.term.URIRef('http://example.org/kg/Roadside_attractions'))\n",
      "(rdflib.term.URIRef('http://dbpedia.org/resource/Dolní_Počernice_(château)'), rdflib.term.URIRef('http://example.org/kg/hasLocation'), rdflib.term.URIRef('http://example.org/kg/Prague'))\n"
     ]
    }
   ],
   "source": [
    "g.parse(\"visitor_attractions_kg.ttl\", format=\"turtle\")\n",
    "# Print a few example triples\n",
    "print(f\"Total triples: {len(g)}\\n\")\n",
    "for i, triple in enumerate(g):\n",
    "    print(triple)\n",
    "    if i == 9:  # show first 10 triples only\n",
    "        break\n"
   ]
  },
  {
   "cell_type": "code",
   "execution_count": 42,
   "id": "f8cd9507",
   "metadata": {},
   "outputs": [
    {
     "name": "stdout",
     "output_type": "stream",
     "text": [
      "['http://www.wikidata.org/entity/Q1116546']\n"
     ]
    }
   ],
   "source": [
    "from SPARQLWrapper import SPARQLWrapper, JSON\n",
    "import pandas as pd\n",
    "\n",
    "DBPEDIA_SPARQL = \"https://dbpedia.org/sparql\"\n",
    "sparql = SPARQLWrapper(DBPEDIA_SPARQL)\n",
    "sparql.setReturnFormat(JSON)\n",
    "\n",
    "# Example: Get mappings for all POIs we already discovered\n",
    "def get_wikidata_mapping(poi_uri):\n",
    "    query = f\"\"\"\n",
    "    PREFIX owl: <http://www.w3.org/2002/07/owl#>\n",
    "    SELECT DISTINCT ?wikidata WHERE {{\n",
    "      <{poi_uri}> owl:sameAs ?wikidata .\n",
    "      FILTER(STRSTARTS(STR(?wikidata), \"http://www.wikidata.org/entity/\"))\n",
    "    }}\n",
    "    \"\"\"\n",
    "    sparql.setQuery(query)\n",
    "    results = sparql.query().convert()\n",
    "    return [r[\"wikidata\"][\"value\"] for r in results[\"results\"][\"bindings\"]]\n",
    "\n",
    "# Example test\n",
    "poi = \"http://dbpedia.org/resource/Palau_Reial_Major\"\n",
    "print(get_wikidata_mapping(poi))\n"
   ]
  },
  {
   "cell_type": "code",
   "execution_count": null,
   "id": "3592d831",
   "metadata": {},
   "outputs": [
    {
     "name": "stdout",
     "output_type": "stream",
     "text": [
      "[('http://www.wikidata.org/entity/Q16560', 'palace')]\n"
     ]
    }
   ],
   "source": [
    "WIKIDATA_SPARQL = \"https://query.wikidata.org/sparql\"\n",
    "wd_sparql = SPARQLWrapper(WIKIDATA_SPARQL)\n",
    "wd_sparql.setReturnFormat(JSON)\n",
    "\n",
    "def get_wikidata_types(wd_entity_uri):\n",
    "    query = f\"\"\"\n",
    "    SELECT DISTINCT ?type ?typeLabel WHERE {{\n",
    "      <{wd_entity_uri}> wdt:P31 ?type .\n",
    "      SERVICE wikibase:label {{ bd:serviceParam wikibase:language \"en\". }}\n",
    "    }}\n",
    "    \"\"\"\n",
    "    wd_sparql.setQuery(query)\n",
    "    results = wd_sparql.query().convert()\n",
    "    return [(r[\"type\"][\"value\"], r[\"typeLabel\"][\"value\"]) for r in results[\"results\"][\"bindings\"]]\n",
    "\n",
    "# Example test\n",
    "print(get_wikidata_types(\"http://www.wikidata.org/entity/Q1116546\"))\n"
   ]
  },
  {
   "cell_type": "code",
   "execution_count": 47,
   "id": "cc9ae859",
   "metadata": {},
   "outputs": [
    {
     "ename": "QueryBadFormed",
     "evalue": "QueryBadFormed: A bad request has been sent to the endpoint: probably the SPARQL query is badly formed. \n\nResponse:\nb'SPARQL-QUERY: queryStr=\\n    PREFIX wdt: <http://www.wikidata.org/prop/direct/>\\n    PREFIX wikibase: <http://wikiba.se/ontology#>\\n    PREFIX bd: <http://www.bigdata.com/rdf#>\\n    PREFIX rdfs: <http://www.w3.org/2000/01/rdf-schema#>\\n\\n    SELECT DISTINCT ?super ?superLabel WHERE {\\n      <http://www.wikidata.org/entity/Q1116546> (wdt:P279{1,3}) ?super .\\n      SERVICE wikibase:label { bd:serviceParam wikibase:language \"en\". }\\n    }\\n    \\njava.util.concurrent.ExecutionException: org.openrdf.query.MalformedQueryException: Encountered \" \"{\" \"{ \"\" at line 8, column 58.\\nWas expecting one of:\\n    \")\" ...\\n    \"+\" ...\\n    \"*\" ...\\n    \"?\" ...\\n    \"/\" ...\\n    \"|\" ...\\n    \\n\\tat java.util.concurrent.FutureTask.report(FutureTask.java:122)\\n\\tat java.util.concurrent.FutureTask.get(FutureTask.java:206)\\n\\tat com.bigdata.rdf.sail.webapp.BigdataServlet.submitApiTask(BigdataServlet.java:292)\\n\\tat com.bigdata.rdf.sail.webapp.QueryServlet.doSparqlQuery(QueryServlet.java:678)\\n\\tat com.bigdata.rdf.sail.webapp.QueryServlet.doGet(QueryServlet.java:290)\\n\\tat com.bigdata.rdf.sail.webapp.RESTServlet.doGet(RESTServlet.java:240)\\n\\tat com.bigdata.rdf.sail.webapp.MultiTenancyServlet.doGet(MultiTenancyServlet.java:273)\\n\\tat javax.servlet.http.HttpServlet.service(HttpServlet.java:687)\\n\\tat javax.servlet.http.HttpServlet.service(HttpServlet.java:790)\\n\\tat org.eclipse.jetty.servlet.ServletHolder.handle(ServletHolder.java:865)\\n\\tat org.eclipse.jetty.servlet.ServletHandler$CachedChain.doFilter(ServletHandler.java:1655)\\n\\tat org.wikidata.query.rdf.blazegraph.throttling.ThrottlingFilter.doFilter(ThrottlingFilter.java:322)\\n\\tat org.eclipse.jetty.servlet.ServletHandler$CachedChain.doFilter(ServletHandler.java:1642)\\n\\tat org.wikidata.query.rdf.blazegraph.throttling.SystemOverloadFilter.doFilter(SystemOverloadFilter.java:84)\\n\\tat org.eclipse.jetty.servlet.ServletHandler$CachedChain.doFilter(ServletHandler.java:1642)\\n\\tat ch.qos.logback.classic.helpers.MDCInsertingServletFilter.doFilter(MDCInsertingServletFilter.java:50)\\n\\tat org.eclipse.jetty.servlet.ServletHandler$CachedChain.doFilter(ServletHandler.java:1642)\\n\\tat org.wikidata.query.rdf.blazegraph.filters.QueryEventSenderFilter.doFilter(QueryEventSenderFilter.java:125)\\n\\tat org.eclipse.jetty.servlet.ServletHandler$CachedChain.doFilter(ServletHandler.java:1642)\\n\\tat org.wikidata.query.rdf.blazegraph.filters.ClientIPFilter.doFilter(ClientIPFilter.java:43)\\n\\tat org.eclipse.jetty.servlet.ServletHandler$CachedChain.doFilter(ServletHandler.java:1642)\\n\\tat org.wikidata.query.rdf.blazegraph.filters.JWTIdentityFilter.doFilter(JWTIdentityFilter.java:66)\\n\\tat org.eclipse.jetty.servlet.ServletHandler$CachedChain.doFilter(ServletHandler.java:1642)\\n\\tat org.wikidata.query.rdf.blazegraph.filters.RealAgentFilter.doFilter(RealAgentFilter.java:33)\\n\\tat org.eclipse.jetty.servlet.ServletHandler$CachedChain.doFilter(ServletHandler.java:1642)\\n\\tat org.wikidata.query.rdf.blazegraph.filters.RequestConcurrencyFilter.doFilter(RequestConcurrencyFilter.java:50)\\n\\tat org.eclipse.jetty.servlet.ServletHandler$CachedChain.doFilter(ServletHandler.java:1634)\\n\\tat org.eclipse.jetty.servlet.ServletHandler.doHandle(ServletHandler.java:533)\\n\\tat org.eclipse.jetty.server.handler.ScopedHandler.handle(ScopedHandler.java:146)\\n\\tat org.eclipse.jetty.security.SecurityHandler.handle(SecurityHandler.java:548)\\n\\tat org.eclipse.jetty.server.handler.HandlerWrapper.handle(HandlerWrapper.java:132)\\n\\tat org.eclipse.jetty.server.handler.ScopedHandler.nextHandle(ScopedHandler.java:257)\\n\\tat org.eclipse.jetty.server.session.SessionHandler.doHandle(SessionHandler.java:1595)\\n\\tat org.eclipse.jetty.server.handler.ScopedHandler.nextHandle(ScopedHandler.java:255)\\n\\tat org.eclipse.jetty.server.handler.ContextHandler.doHandle(ContextHandler.java:1340)\\n\\tat org.eclipse.jetty.server.handler.ScopedHandler.nextScope(ScopedHandler.java:203)\\n\\tat org.eclipse.jetty.servlet.ServletHandler.doScope(ServletHandler.java:473)\\n\\tat org.eclipse.jetty.server.session.SessionHandler.doScope(SessionHandler.java:1564)\\n\\tat org.eclipse.jetty.server.handler.ScopedHandler.nextScope(ScopedHandler.java:201)\\n\\tat org.eclipse.jetty.server.handler.ContextHandler.doScope(ContextHandler.java:1242)\\n\\tat org.eclipse.jetty.server.handler.ScopedHandler.handle(ScopedHandler.java:144)\\n\\tat org.eclipse.jetty.server.handler.ContextHandlerCollection.handle(ContextHandlerCollection.java:220)\\n\\tat org.eclipse.jetty.server.handler.HandlerCollection.handle(HandlerCollection.java:126)\\n\\tat org.eclipse.jetty.server.handler.HandlerWrapper.handle(HandlerWrapper.java:132)\\n\\tat org.eclipse.jetty.server.Server.handle(Server.java:503)\\n\\tat org.eclipse.jetty.server.HttpChannel.handle(HttpChannel.java:364)\\n\\tat org.eclipse.jetty.server.HttpConnection.onFillable(HttpConnection.java:260)\\n\\tat org.eclipse.jetty.io.AbstractConnection$ReadCallback.succeeded(AbstractConnection.java:305)\\n\\tat org.eclipse.jetty.io.FillInterest.fillable(FillInterest.java:103)\\n\\tat org.eclipse.jetty.io.ChannelEndPoint$2.run(ChannelEndPoint.java:118)\\n\\tat org.eclipse.jetty.util.thread.strategy.EatWhatYouKill.runTask(EatWhatYouKill.java:333)\\n\\tat org.eclipse.jetty.util.thread.strategy.EatWhatYouKill.doProduce(EatWhatYouKill.java:310)\\n\\tat org.eclipse.jetty.util.thread.strategy.EatWhatYouKill.tryProduce(EatWhatYouKill.java:168)\\n\\tat org.eclipse.jetty.util.thread.strategy.EatWhatYouKill.run(EatWhatYouKill.java:126)\\n\\tat org.eclipse.jetty.util.thread.ReservedThreadExecutor$ReservedThread.run(ReservedThreadExecutor.java:366)\\n\\tat org.eclipse.jetty.util.thread.QueuedThreadPool.runJob(QueuedThreadPool.java:765)\\n\\tat org.eclipse.jetty.util.thread.QueuedThreadPool$2.run(QueuedThreadPool.java:683)\\n\\tat java.lang.Thread.run(Thread.java:750)\\nCaused by: org.openrdf.query.MalformedQueryException: Encountered \" \"{\" \"{ \"\" at line 8, column 58.\\nWas expecting one of:\\n    \")\" ...\\n    \"+\" ...\\n    \"*\" ...\\n    \"?\" ...\\n    \"/\" ...\\n    \"|\" ...\\n    \\n\\tat com.bigdata.rdf.sail.sparql.Bigdata2ASTSPARQLParser.parseQuery2(Bigdata2ASTSPARQLParser.java:400)\\n\\tat com.bigdata.rdf.sail.webapp.QueryServlet$SparqlQueryTask.call(QueryServlet.java:741)\\n\\tat com.bigdata.rdf.sail.webapp.QueryServlet$SparqlQueryTask.call(QueryServlet.java:695)\\n\\tat com.bigdata.rdf.task.ApiTaskForIndexManager.call(ApiTaskForIndexManager.java:68)\\n\\tat java.util.concurrent.FutureTask.run(FutureTask.java:266)\\n\\tat java.util.concurrent.ThreadPoolExecutor.runWorker(ThreadPoolExecutor.java:1149)\\n\\tat java.util.concurrent.ThreadPoolExecutor$Worker.run(ThreadPoolExecutor.java:624)\\n\\t... 1 more\\nCaused by: com.bigdata.rdf.sail.sparql.ast.ParseException: Encountered \" \"{\" \"{ \"\" at line 8, column 58.\\nWas expecting one of:\\n    \")\" ...\\n    \"+\" ...\\n    \"*\" ...\\n    \"?\" ...\\n    \"/\" ...\\n    \"|\" ...\\n    \\n\\tat com.bigdata.rdf.sail.sparql.ast.SyntaxTreeBuilder.generateParseException(SyntaxTreeBuilder.java:9722)\\n\\tat com.bigdata.rdf.sail.sparql.ast.SyntaxTreeBuilder.jj_consume_token(SyntaxTreeBuilder.java:9589)\\n\\tat com.bigdata.rdf.sail.sparql.ast.SyntaxTreeBuilder.PathPrimary(SyntaxTreeBuilder.java:3245)\\n\\tat com.bigdata.rdf.sail.sparql.ast.SyntaxTreeBuilder.PathElt(SyntaxTreeBuilder.java:3184)\\n\\tat com.bigdata.rdf.sail.sparql.ast.SyntaxTreeBuilder.PathSequence(SyntaxTreeBuilder.java:3134)\\n\\tat com.bigdata.rdf.sail.sparql.ast.SyntaxTreeBuilder.PathAlternative(SyntaxTreeBuilder.java:3093)\\n\\tat com.bigdata.rdf.sail.sparql.ast.SyntaxTreeBuilder.Path(SyntaxTreeBuilder.java:3084)\\n\\tat com.bigdata.rdf.sail.sparql.ast.SyntaxTreeBuilder.VerbPath(SyntaxTreeBuilder.java:3080)\\n\\tat com.bigdata.rdf.sail.sparql.ast.SyntaxTreeBuilder.PropertyListPath(SyntaxTreeBuilder.java:2981)\\n\\tat com.bigdata.rdf.sail.sparql.ast.SyntaxTreeBuilder.TriplesSameSubjectPath(SyntaxTreeBuilder.java:2919)\\n\\tat com.bigdata.rdf.sail.sparql.ast.SyntaxTreeBuilder.TriplesBlock(SyntaxTreeBuilder.java:2312)\\n\\tat com.bigdata.rdf.sail.sparql.ast.SyntaxTreeBuilder.BasicGraphPattern(SyntaxTreeBuilder.java:2097)\\n\\tat com.bigdata.rdf.sail.sparql.ast.SyntaxTreeBuilder.GraphPattern(SyntaxTreeBuilder.java:2034)\\n\\tat com.bigdata.rdf.sail.sparql.ast.SyntaxTreeBuilder.GroupGraphPattern(SyntaxTreeBuilder.java:1969)\\n\\tat com.bigdata.rdf.sail.sparql.ast.SyntaxTreeBuilder.WhereClause(SyntaxTreeBuilder.java:1013)\\n\\tat com.bigdata.rdf.sail.sparql.ast.SyntaxTreeBuilder.SelectQuery(SyntaxTreeBuilder.java:377)\\n\\tat com.bigdata.rdf.sail.sparql.ast.SyntaxTreeBuilder.Query(SyntaxTreeBuilder.java:328)\\n\\tat com.bigdata.rdf.sail.sparql.ast.SyntaxTreeBuilder.QueryContainer(SyntaxTreeBuilder.java:216)\\n\\tat com.bigdata.rdf.sail.sparql.ast.SyntaxTreeBuilder.parseQuery(SyntaxTreeBuilder.java:32)\\n\\tat com.bigdata.rdf.sail.sparql.Bigdata2ASTSPARQLParser.parseQuery2(Bigdata2ASTSPARQLParser.java:336)\\n\\t... 7 more\\n'",
     "output_type": "error",
     "traceback": [
      "\u001b[31m---------------------------------------------------------------------------\u001b[39m",
      "\u001b[31mHTTPError\u001b[39m                                 Traceback (most recent call last)",
      "\u001b[36mFile \u001b[39m\u001b[32m/opt/anaconda3/envs/kgtp/lib/python3.14/site-packages/SPARQLWrapper/Wrapper.py:926\u001b[39m, in \u001b[36mSPARQLWrapper._query\u001b[39m\u001b[34m(self)\u001b[39m\n\u001b[32m    925\u001b[39m \u001b[38;5;28;01melse\u001b[39;00m:\n\u001b[32m--> \u001b[39m\u001b[32m926\u001b[39m     response = \u001b[43murlopener\u001b[49m\u001b[43m(\u001b[49m\u001b[43mrequest\u001b[49m\u001b[43m)\u001b[49m\n\u001b[32m    927\u001b[39m \u001b[38;5;28;01mreturn\u001b[39;00m response, \u001b[38;5;28mself\u001b[39m.returnFormat\n",
      "\u001b[36mFile \u001b[39m\u001b[32m/opt/anaconda3/envs/kgtp/lib/python3.14/urllib/request.py:187\u001b[39m, in \u001b[36murlopen\u001b[39m\u001b[34m(url, data, timeout, context)\u001b[39m\n\u001b[32m    186\u001b[39m     opener = _opener\n\u001b[32m--> \u001b[39m\u001b[32m187\u001b[39m \u001b[38;5;28;01mreturn\u001b[39;00m \u001b[43mopener\u001b[49m\u001b[43m.\u001b[49m\u001b[43mopen\u001b[49m\u001b[43m(\u001b[49m\u001b[43murl\u001b[49m\u001b[43m,\u001b[49m\u001b[43m \u001b[49m\u001b[43mdata\u001b[49m\u001b[43m,\u001b[49m\u001b[43m \u001b[49m\u001b[43mtimeout\u001b[49m\u001b[43m)\u001b[49m\n",
      "\u001b[36mFile \u001b[39m\u001b[32m/opt/anaconda3/envs/kgtp/lib/python3.14/urllib/request.py:493\u001b[39m, in \u001b[36mOpenerDirector.open\u001b[39m\u001b[34m(self, fullurl, data, timeout)\u001b[39m\n\u001b[32m    492\u001b[39m     meth = \u001b[38;5;28mgetattr\u001b[39m(processor, meth_name)\n\u001b[32m--> \u001b[39m\u001b[32m493\u001b[39m     response = \u001b[43mmeth\u001b[49m\u001b[43m(\u001b[49m\u001b[43mreq\u001b[49m\u001b[43m,\u001b[49m\u001b[43m \u001b[49m\u001b[43mresponse\u001b[49m\u001b[43m)\u001b[49m\n\u001b[32m    495\u001b[39m \u001b[38;5;28;01mreturn\u001b[39;00m response\n",
      "\u001b[36mFile \u001b[39m\u001b[32m/opt/anaconda3/envs/kgtp/lib/python3.14/urllib/request.py:602\u001b[39m, in \u001b[36mHTTPErrorProcessor.http_response\u001b[39m\u001b[34m(self, request, response)\u001b[39m\n\u001b[32m    601\u001b[39m \u001b[38;5;28;01mif\u001b[39;00m \u001b[38;5;129;01mnot\u001b[39;00m (\u001b[32m200\u001b[39m <= code < \u001b[32m300\u001b[39m):\n\u001b[32m--> \u001b[39m\u001b[32m602\u001b[39m     response = \u001b[38;5;28;43mself\u001b[39;49m\u001b[43m.\u001b[49m\u001b[43mparent\u001b[49m\u001b[43m.\u001b[49m\u001b[43merror\u001b[49m\u001b[43m(\u001b[49m\n\u001b[32m    603\u001b[39m \u001b[43m        \u001b[49m\u001b[33;43m'\u001b[39;49m\u001b[33;43mhttp\u001b[39;49m\u001b[33;43m'\u001b[39;49m\u001b[43m,\u001b[49m\u001b[43m \u001b[49m\u001b[43mrequest\u001b[49m\u001b[43m,\u001b[49m\u001b[43m \u001b[49m\u001b[43mresponse\u001b[49m\u001b[43m,\u001b[49m\u001b[43m \u001b[49m\u001b[43mcode\u001b[49m\u001b[43m,\u001b[49m\u001b[43m \u001b[49m\u001b[43mmsg\u001b[49m\u001b[43m,\u001b[49m\u001b[43m \u001b[49m\u001b[43mhdrs\u001b[49m\u001b[43m)\u001b[49m\n\u001b[32m    605\u001b[39m \u001b[38;5;28;01mreturn\u001b[39;00m response\n",
      "\u001b[36mFile \u001b[39m\u001b[32m/opt/anaconda3/envs/kgtp/lib/python3.14/urllib/request.py:531\u001b[39m, in \u001b[36mOpenerDirector.error\u001b[39m\u001b[34m(self, proto, *args)\u001b[39m\n\u001b[32m    530\u001b[39m args = (\u001b[38;5;28mdict\u001b[39m, \u001b[33m'\u001b[39m\u001b[33mdefault\u001b[39m\u001b[33m'\u001b[39m, \u001b[33m'\u001b[39m\u001b[33mhttp_error_default\u001b[39m\u001b[33m'\u001b[39m) + orig_args\n\u001b[32m--> \u001b[39m\u001b[32m531\u001b[39m \u001b[38;5;28;01mreturn\u001b[39;00m \u001b[38;5;28;43mself\u001b[39;49m\u001b[43m.\u001b[49m\u001b[43m_call_chain\u001b[49m\u001b[43m(\u001b[49m\u001b[43m*\u001b[49m\u001b[43margs\u001b[49m\u001b[43m)\u001b[49m\n",
      "\u001b[36mFile \u001b[39m\u001b[32m/opt/anaconda3/envs/kgtp/lib/python3.14/urllib/request.py:464\u001b[39m, in \u001b[36mOpenerDirector._call_chain\u001b[39m\u001b[34m(self, chain, kind, meth_name, *args)\u001b[39m\n\u001b[32m    463\u001b[39m func = \u001b[38;5;28mgetattr\u001b[39m(handler, meth_name)\n\u001b[32m--> \u001b[39m\u001b[32m464\u001b[39m result = \u001b[43mfunc\u001b[49m\u001b[43m(\u001b[49m\u001b[43m*\u001b[49m\u001b[43margs\u001b[49m\u001b[43m)\u001b[49m\n\u001b[32m    465\u001b[39m \u001b[38;5;28;01mif\u001b[39;00m result \u001b[38;5;129;01mis\u001b[39;00m \u001b[38;5;129;01mnot\u001b[39;00m \u001b[38;5;28;01mNone\u001b[39;00m:\n",
      "\u001b[36mFile \u001b[39m\u001b[32m/opt/anaconda3/envs/kgtp/lib/python3.14/urllib/request.py:611\u001b[39m, in \u001b[36mHTTPDefaultErrorHandler.http_error_default\u001b[39m\u001b[34m(self, req, fp, code, msg, hdrs)\u001b[39m\n\u001b[32m    610\u001b[39m \u001b[38;5;28;01mdef\u001b[39;00m\u001b[38;5;250m \u001b[39m\u001b[34mhttp_error_default\u001b[39m(\u001b[38;5;28mself\u001b[39m, req, fp, code, msg, hdrs):\n\u001b[32m--> \u001b[39m\u001b[32m611\u001b[39m     \u001b[38;5;28;01mraise\u001b[39;00m HTTPError(req.full_url, code, msg, hdrs, fp)\n",
      "\u001b[31mHTTPError\u001b[39m: HTTP Error 400: Bad Request",
      "\nDuring handling of the above exception, another exception occurred:\n",
      "\u001b[31mQueryBadFormed\u001b[39m                            Traceback (most recent call last)",
      "\u001b[36mCell\u001b[39m\u001b[36m \u001b[39m\u001b[32mIn[47]\u001b[39m\u001b[32m, line 19\u001b[39m\n\u001b[32m     16\u001b[39m     \u001b[38;5;28;01mreturn\u001b[39;00m [(r[\u001b[33m\"\u001b[39m\u001b[33msuper\u001b[39m\u001b[33m\"\u001b[39m][\u001b[33m\"\u001b[39m\u001b[33mvalue\u001b[39m\u001b[33m\"\u001b[39m], r[\u001b[33m\"\u001b[39m\u001b[33msuperLabel\u001b[39m\u001b[33m\"\u001b[39m][\u001b[33m\"\u001b[39m\u001b[33mvalue\u001b[39m\u001b[33m\"\u001b[39m]) \u001b[38;5;28;01mfor\u001b[39;00m r \u001b[38;5;129;01min\u001b[39;00m results[\u001b[33m\"\u001b[39m\u001b[33mresults\u001b[39m\u001b[33m\"\u001b[39m][\u001b[33m\"\u001b[39m\u001b[33mbindings\u001b[39m\u001b[33m\"\u001b[39m]]\n\u001b[32m     18\u001b[39m \u001b[38;5;66;03m# Example: traverse 3 levels up from museum (Q33506)\u001b[39;00m\n\u001b[32m---> \u001b[39m\u001b[32m19\u001b[39m \u001b[38;5;28mprint\u001b[39m(\u001b[43mget_superclasses\u001b[49m\u001b[43m(\u001b[49m\u001b[33;43m\"\u001b[39;49m\u001b[33;43mhttp://www.wikidata.org/entity/Q1116546\u001b[39;49m\u001b[33;43m\"\u001b[39;49m\u001b[43m)\u001b[49m)\n",
      "\u001b[36mCell\u001b[39m\u001b[36m \u001b[39m\u001b[32mIn[47]\u001b[39m\u001b[32m, line 15\u001b[39m, in \u001b[36mget_superclasses\u001b[39m\u001b[34m(wd_type_uri, depth)\u001b[39m\n\u001b[32m     13\u001b[39m wd_sparql.setQuery(query)\n\u001b[32m     14\u001b[39m wd_sparql.setReturnFormat(JSON)\n\u001b[32m---> \u001b[39m\u001b[32m15\u001b[39m results = \u001b[43mwd_sparql\u001b[49m\u001b[43m.\u001b[49m\u001b[43mquery\u001b[49m\u001b[43m(\u001b[49m\u001b[43m)\u001b[49m.convert()\n\u001b[32m     16\u001b[39m \u001b[38;5;28;01mreturn\u001b[39;00m [(r[\u001b[33m\"\u001b[39m\u001b[33msuper\u001b[39m\u001b[33m\"\u001b[39m][\u001b[33m\"\u001b[39m\u001b[33mvalue\u001b[39m\u001b[33m\"\u001b[39m], r[\u001b[33m\"\u001b[39m\u001b[33msuperLabel\u001b[39m\u001b[33m\"\u001b[39m][\u001b[33m\"\u001b[39m\u001b[33mvalue\u001b[39m\u001b[33m\"\u001b[39m]) \u001b[38;5;28;01mfor\u001b[39;00m r \u001b[38;5;129;01min\u001b[39;00m results[\u001b[33m\"\u001b[39m\u001b[33mresults\u001b[39m\u001b[33m\"\u001b[39m][\u001b[33m\"\u001b[39m\u001b[33mbindings\u001b[39m\u001b[33m\"\u001b[39m]]\n",
      "\u001b[36mFile \u001b[39m\u001b[32m/opt/anaconda3/envs/kgtp/lib/python3.14/site-packages/SPARQLWrapper/Wrapper.py:960\u001b[39m, in \u001b[36mSPARQLWrapper.query\u001b[39m\u001b[34m(self)\u001b[39m\n\u001b[32m    942\u001b[39m \u001b[38;5;28;01mdef\u001b[39;00m\u001b[38;5;250m \u001b[39m\u001b[34mquery\u001b[39m(\u001b[38;5;28mself\u001b[39m) -> \u001b[33m\"\u001b[39m\u001b[33mQueryResult\u001b[39m\u001b[33m\"\u001b[39m:\n\u001b[32m    943\u001b[39m \u001b[38;5;250m    \u001b[39m\u001b[33;03m\"\"\"\u001b[39;00m\n\u001b[32m    944\u001b[39m \u001b[33;03m    Execute the query.\u001b[39;00m\n\u001b[32m    945\u001b[39m \u001b[33;03m    Exceptions can be raised if either the URI is wrong or the HTTP sends back an error (this is also the\u001b[39;00m\n\u001b[32m   (...)\u001b[39m\u001b[32m    958\u001b[39m \u001b[33;03m    :rtype: :class:`QueryResult` instance\u001b[39;00m\n\u001b[32m    959\u001b[39m \u001b[33;03m    \"\"\"\u001b[39;00m\n\u001b[32m--> \u001b[39m\u001b[32m960\u001b[39m     \u001b[38;5;28;01mreturn\u001b[39;00m QueryResult(\u001b[38;5;28;43mself\u001b[39;49m\u001b[43m.\u001b[49m\u001b[43m_query\u001b[49m\u001b[43m(\u001b[49m\u001b[43m)\u001b[49m)\n",
      "\u001b[36mFile \u001b[39m\u001b[32m/opt/anaconda3/envs/kgtp/lib/python3.14/site-packages/SPARQLWrapper/Wrapper.py:930\u001b[39m, in \u001b[36mSPARQLWrapper._query\u001b[39m\u001b[34m(self)\u001b[39m\n\u001b[32m    928\u001b[39m \u001b[38;5;28;01mexcept\u001b[39;00m urllib.error.HTTPError \u001b[38;5;28;01mas\u001b[39;00m e:\n\u001b[32m    929\u001b[39m     \u001b[38;5;28;01mif\u001b[39;00m e.code == \u001b[32m400\u001b[39m:\n\u001b[32m--> \u001b[39m\u001b[32m930\u001b[39m         \u001b[38;5;28;01mraise\u001b[39;00m QueryBadFormed(e.read())\n\u001b[32m    931\u001b[39m     \u001b[38;5;28;01melif\u001b[39;00m e.code == \u001b[32m404\u001b[39m:\n\u001b[32m    932\u001b[39m         \u001b[38;5;28;01mraise\u001b[39;00m EndPointNotFound(e.read())\n",
      "\u001b[31mQueryBadFormed\u001b[39m: QueryBadFormed: A bad request has been sent to the endpoint: probably the SPARQL query is badly formed. \n\nResponse:\nb'SPARQL-QUERY: queryStr=\\n    PREFIX wdt: <http://www.wikidata.org/prop/direct/>\\n    PREFIX wikibase: <http://wikiba.se/ontology#>\\n    PREFIX bd: <http://www.bigdata.com/rdf#>\\n    PREFIX rdfs: <http://www.w3.org/2000/01/rdf-schema#>\\n\\n    SELECT DISTINCT ?super ?superLabel WHERE {\\n      <http://www.wikidata.org/entity/Q1116546> (wdt:P279{1,3}) ?super .\\n      SERVICE wikibase:label { bd:serviceParam wikibase:language \"en\". }\\n    }\\n    \\njava.util.concurrent.ExecutionException: org.openrdf.query.MalformedQueryException: Encountered \" \"{\" \"{ \"\" at line 8, column 58.\\nWas expecting one of:\\n    \")\" ...\\n    \"+\" ...\\n    \"*\" ...\\n    \"?\" ...\\n    \"/\" ...\\n    \"|\" ...\\n    \\n\\tat java.util.concurrent.FutureTask.report(FutureTask.java:122)\\n\\tat java.util.concurrent.FutureTask.get(FutureTask.java:206)\\n\\tat com.bigdata.rdf.sail.webapp.BigdataServlet.submitApiTask(BigdataServlet.java:292)\\n\\tat com.bigdata.rdf.sail.webapp.QueryServlet.doSparqlQuery(QueryServlet.java:678)\\n\\tat com.bigdata.rdf.sail.webapp.QueryServlet.doGet(QueryServlet.java:290)\\n\\tat com.bigdata.rdf.sail.webapp.RESTServlet.doGet(RESTServlet.java:240)\\n\\tat com.bigdata.rdf.sail.webapp.MultiTenancyServlet.doGet(MultiTenancyServlet.java:273)\\n\\tat javax.servlet.http.HttpServlet.service(HttpServlet.java:687)\\n\\tat javax.servlet.http.HttpServlet.service(HttpServlet.java:790)\\n\\tat org.eclipse.jetty.servlet.ServletHolder.handle(ServletHolder.java:865)\\n\\tat org.eclipse.jetty.servlet.ServletHandler$CachedChain.doFilter(ServletHandler.java:1655)\\n\\tat org.wikidata.query.rdf.blazegraph.throttling.ThrottlingFilter.doFilter(ThrottlingFilter.java:322)\\n\\tat org.eclipse.jetty.servlet.ServletHandler$CachedChain.doFilter(ServletHandler.java:1642)\\n\\tat org.wikidata.query.rdf.blazegraph.throttling.SystemOverloadFilter.doFilter(SystemOverloadFilter.java:84)\\n\\tat org.eclipse.jetty.servlet.ServletHandler$CachedChain.doFilter(ServletHandler.java:1642)\\n\\tat ch.qos.logback.classic.helpers.MDCInsertingServletFilter.doFilter(MDCInsertingServletFilter.java:50)\\n\\tat org.eclipse.jetty.servlet.ServletHandler$CachedChain.doFilter(ServletHandler.java:1642)\\n\\tat org.wikidata.query.rdf.blazegraph.filters.QueryEventSenderFilter.doFilter(QueryEventSenderFilter.java:125)\\n\\tat org.eclipse.jetty.servlet.ServletHandler$CachedChain.doFilter(ServletHandler.java:1642)\\n\\tat org.wikidata.query.rdf.blazegraph.filters.ClientIPFilter.doFilter(ClientIPFilter.java:43)\\n\\tat org.eclipse.jetty.servlet.ServletHandler$CachedChain.doFilter(ServletHandler.java:1642)\\n\\tat org.wikidata.query.rdf.blazegraph.filters.JWTIdentityFilter.doFilter(JWTIdentityFilter.java:66)\\n\\tat org.eclipse.jetty.servlet.ServletHandler$CachedChain.doFilter(ServletHandler.java:1642)\\n\\tat org.wikidata.query.rdf.blazegraph.filters.RealAgentFilter.doFilter(RealAgentFilter.java:33)\\n\\tat org.eclipse.jetty.servlet.ServletHandler$CachedChain.doFilter(ServletHandler.java:1642)\\n\\tat org.wikidata.query.rdf.blazegraph.filters.RequestConcurrencyFilter.doFilter(RequestConcurrencyFilter.java:50)\\n\\tat org.eclipse.jetty.servlet.ServletHandler$CachedChain.doFilter(ServletHandler.java:1634)\\n\\tat org.eclipse.jetty.servlet.ServletHandler.doHandle(ServletHandler.java:533)\\n\\tat org.eclipse.jetty.server.handler.ScopedHandler.handle(ScopedHandler.java:146)\\n\\tat org.eclipse.jetty.security.SecurityHandler.handle(SecurityHandler.java:548)\\n\\tat org.eclipse.jetty.server.handler.HandlerWrapper.handle(HandlerWrapper.java:132)\\n\\tat org.eclipse.jetty.server.handler.ScopedHandler.nextHandle(ScopedHandler.java:257)\\n\\tat org.eclipse.jetty.server.session.SessionHandler.doHandle(SessionHandler.java:1595)\\n\\tat org.eclipse.jetty.server.handler.ScopedHandler.nextHandle(ScopedHandler.java:255)\\n\\tat org.eclipse.jetty.server.handler.ContextHandler.doHandle(ContextHandler.java:1340)\\n\\tat org.eclipse.jetty.server.handler.ScopedHandler.nextScope(ScopedHandler.java:203)\\n\\tat org.eclipse.jetty.servlet.ServletHandler.doScope(ServletHandler.java:473)\\n\\tat org.eclipse.jetty.server.session.SessionHandler.doScope(SessionHandler.java:1564)\\n\\tat org.eclipse.jetty.server.handler.ScopedHandler.nextScope(ScopedHandler.java:201)\\n\\tat org.eclipse.jetty.server.handler.ContextHandler.doScope(ContextHandler.java:1242)\\n\\tat org.eclipse.jetty.server.handler.ScopedHandler.handle(ScopedHandler.java:144)\\n\\tat org.eclipse.jetty.server.handler.ContextHandlerCollection.handle(ContextHandlerCollection.java:220)\\n\\tat org.eclipse.jetty.server.handler.HandlerCollection.handle(HandlerCollection.java:126)\\n\\tat org.eclipse.jetty.server.handler.HandlerWrapper.handle(HandlerWrapper.java:132)\\n\\tat org.eclipse.jetty.server.Server.handle(Server.java:503)\\n\\tat org.eclipse.jetty.server.HttpChannel.handle(HttpChannel.java:364)\\n\\tat org.eclipse.jetty.server.HttpConnection.onFillable(HttpConnection.java:260)\\n\\tat org.eclipse.jetty.io.AbstractConnection$ReadCallback.succeeded(AbstractConnection.java:305)\\n\\tat org.eclipse.jetty.io.FillInterest.fillable(FillInterest.java:103)\\n\\tat org.eclipse.jetty.io.ChannelEndPoint$2.run(ChannelEndPoint.java:118)\\n\\tat org.eclipse.jetty.util.thread.strategy.EatWhatYouKill.runTask(EatWhatYouKill.java:333)\\n\\tat org.eclipse.jetty.util.thread.strategy.EatWhatYouKill.doProduce(EatWhatYouKill.java:310)\\n\\tat org.eclipse.jetty.util.thread.strategy.EatWhatYouKill.tryProduce(EatWhatYouKill.java:168)\\n\\tat org.eclipse.jetty.util.thread.strategy.EatWhatYouKill.run(EatWhatYouKill.java:126)\\n\\tat org.eclipse.jetty.util.thread.ReservedThreadExecutor$ReservedThread.run(ReservedThreadExecutor.java:366)\\n\\tat org.eclipse.jetty.util.thread.QueuedThreadPool.runJob(QueuedThreadPool.java:765)\\n\\tat org.eclipse.jetty.util.thread.QueuedThreadPool$2.run(QueuedThreadPool.java:683)\\n\\tat java.lang.Thread.run(Thread.java:750)\\nCaused by: org.openrdf.query.MalformedQueryException: Encountered \" \"{\" \"{ \"\" at line 8, column 58.\\nWas expecting one of:\\n    \")\" ...\\n    \"+\" ...\\n    \"*\" ...\\n    \"?\" ...\\n    \"/\" ...\\n    \"|\" ...\\n    \\n\\tat com.bigdata.rdf.sail.sparql.Bigdata2ASTSPARQLParser.parseQuery2(Bigdata2ASTSPARQLParser.java:400)\\n\\tat com.bigdata.rdf.sail.webapp.QueryServlet$SparqlQueryTask.call(QueryServlet.java:741)\\n\\tat com.bigdata.rdf.sail.webapp.QueryServlet$SparqlQueryTask.call(QueryServlet.java:695)\\n\\tat com.bigdata.rdf.task.ApiTaskForIndexManager.call(ApiTaskForIndexManager.java:68)\\n\\tat java.util.concurrent.FutureTask.run(FutureTask.java:266)\\n\\tat java.util.concurrent.ThreadPoolExecutor.runWorker(ThreadPoolExecutor.java:1149)\\n\\tat java.util.concurrent.ThreadPoolExecutor$Worker.run(ThreadPoolExecutor.java:624)\\n\\t... 1 more\\nCaused by: com.bigdata.rdf.sail.sparql.ast.ParseException: Encountered \" \"{\" \"{ \"\" at line 8, column 58.\\nWas expecting one of:\\n    \")\" ...\\n    \"+\" ...\\n    \"*\" ...\\n    \"?\" ...\\n    \"/\" ...\\n    \"|\" ...\\n    \\n\\tat com.bigdata.rdf.sail.sparql.ast.SyntaxTreeBuilder.generateParseException(SyntaxTreeBuilder.java:9722)\\n\\tat com.bigdata.rdf.sail.sparql.ast.SyntaxTreeBuilder.jj_consume_token(SyntaxTreeBuilder.java:9589)\\n\\tat com.bigdata.rdf.sail.sparql.ast.SyntaxTreeBuilder.PathPrimary(SyntaxTreeBuilder.java:3245)\\n\\tat com.bigdata.rdf.sail.sparql.ast.SyntaxTreeBuilder.PathElt(SyntaxTreeBuilder.java:3184)\\n\\tat com.bigdata.rdf.sail.sparql.ast.SyntaxTreeBuilder.PathSequence(SyntaxTreeBuilder.java:3134)\\n\\tat com.bigdata.rdf.sail.sparql.ast.SyntaxTreeBuilder.PathAlternative(SyntaxTreeBuilder.java:3093)\\n\\tat com.bigdata.rdf.sail.sparql.ast.SyntaxTreeBuilder.Path(SyntaxTreeBuilder.java:3084)\\n\\tat com.bigdata.rdf.sail.sparql.ast.SyntaxTreeBuilder.VerbPath(SyntaxTreeBuilder.java:3080)\\n\\tat com.bigdata.rdf.sail.sparql.ast.SyntaxTreeBuilder.PropertyListPath(SyntaxTreeBuilder.java:2981)\\n\\tat com.bigdata.rdf.sail.sparql.ast.SyntaxTreeBuilder.TriplesSameSubjectPath(SyntaxTreeBuilder.java:2919)\\n\\tat com.bigdata.rdf.sail.sparql.ast.SyntaxTreeBuilder.TriplesBlock(SyntaxTreeBuilder.java:2312)\\n\\tat com.bigdata.rdf.sail.sparql.ast.SyntaxTreeBuilder.BasicGraphPattern(SyntaxTreeBuilder.java:2097)\\n\\tat com.bigdata.rdf.sail.sparql.ast.SyntaxTreeBuilder.GraphPattern(SyntaxTreeBuilder.java:2034)\\n\\tat com.bigdata.rdf.sail.sparql.ast.SyntaxTreeBuilder.GroupGraphPattern(SyntaxTreeBuilder.java:1969)\\n\\tat com.bigdata.rdf.sail.sparql.ast.SyntaxTreeBuilder.WhereClause(SyntaxTreeBuilder.java:1013)\\n\\tat com.bigdata.rdf.sail.sparql.ast.SyntaxTreeBuilder.SelectQuery(SyntaxTreeBuilder.java:377)\\n\\tat com.bigdata.rdf.sail.sparql.ast.SyntaxTreeBuilder.Query(SyntaxTreeBuilder.java:328)\\n\\tat com.bigdata.rdf.sail.sparql.ast.SyntaxTreeBuilder.QueryContainer(SyntaxTreeBuilder.java:216)\\n\\tat com.bigdata.rdf.sail.sparql.ast.SyntaxTreeBuilder.parseQuery(SyntaxTreeBuilder.java:32)\\n\\tat com.bigdata.rdf.sail.sparql.Bigdata2ASTSPARQLParser.parseQuery2(Bigdata2ASTSPARQLParser.java:336)\\n\\t... 7 more\\n'"
     ]
    }
   ],
   "source": [
    "def get_superclasses(wd_type_uri, depth=3):\n",
    "    query = f\"\"\"\n",
    "    PREFIX wdt: <http://www.wikidata.org/prop/direct/>\n",
    "    PREFIX wikibase: <http://wikiba.se/ontology#>\n",
    "    PREFIX bd: <http://www.bigdata.com/rdf#>\n",
    "    PREFIX rdfs: <http://www.w3.org/2000/01/rdf-schema#>\n",
    "\n",
    "    SELECT DISTINCT ?super ?superLabel WHERE {{\n",
    "      <{wd_type_uri}> (wdt:P279{{1,{depth}}}) ?super .\n",
    "      SERVICE wikibase:label {{ bd:serviceParam wikibase:language \"en\". }}\n",
    "    }}\n",
    "    \"\"\"\n",
    "    wd_sparql.setQuery(query)\n",
    "    wd_sparql.setReturnFormat(JSON)\n",
    "    results = wd_sparql.query().convert()\n",
    "    return [(r[\"super\"][\"value\"], r[\"superLabel\"][\"value\"]) for r in results[\"results\"][\"bindings\"]]\n",
    "\n",
    "# Example: traverse 3 levels up from museum (Q33506)\n",
    "print(get_superclasses(\"http://www.wikidata.org/entity/Q1116546\"))\n"
   ]
  },
  {
   "cell_type": "code",
   "execution_count": null,
   "id": "9c61f081",
   "metadata": {},
   "outputs": [],
   "source": []
  }
 ],
 "metadata": {
  "kernelspec": {
   "display_name": "kgtp",
   "language": "python",
   "name": "python3"
  },
  "language_info": {
   "codemirror_mode": {
    "name": "ipython",
    "version": 3
   },
   "file_extension": ".py",
   "mimetype": "text/x-python",
   "name": "python",
   "nbconvert_exporter": "python",
   "pygments_lexer": "ipython3",
   "version": "3.14.0"
  }
 },
 "nbformat": 4,
 "nbformat_minor": 5
}
